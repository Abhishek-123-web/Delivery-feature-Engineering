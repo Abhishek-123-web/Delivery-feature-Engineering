{
 "cells": [
  {
   "cell_type": "code",
   "execution_count": 83,
   "id": "692f2400",
   "metadata": {},
   "outputs": [],
   "source": [
    "import numpy as np\n",
    "import pandas as pd\n",
    "import matplotlib.pyplot as plt\n",
    "import seaborn as sns\n"
   ]
  },
  {
   "cell_type": "markdown",
   "id": "aa09ba95",
   "metadata": {},
   "source": [
    "# Loading of Data"
   ]
  },
  {
   "cell_type": "code",
   "execution_count": 84,
   "id": "a494cc62",
   "metadata": {},
   "outputs": [],
   "source": [
    "df = pd.read_csv(\"delivery_data.csv\")"
   ]
  },
  {
   "cell_type": "code",
   "execution_count": 85,
   "id": "5093ac1e",
   "metadata": {
    "scrolled": true
   },
   "outputs": [
    {
     "data": {
      "text/html": [
       "<div>\n",
       "<style scoped>\n",
       "    .dataframe tbody tr th:only-of-type {\n",
       "        vertical-align: middle;\n",
       "    }\n",
       "\n",
       "    .dataframe tbody tr th {\n",
       "        vertical-align: top;\n",
       "    }\n",
       "\n",
       "    .dataframe thead th {\n",
       "        text-align: right;\n",
       "    }\n",
       "</style>\n",
       "<table border=\"1\" class=\"dataframe\">\n",
       "  <thead>\n",
       "    <tr style=\"text-align: right;\">\n",
       "      <th></th>\n",
       "      <th>data</th>\n",
       "      <th>trip_creation_time</th>\n",
       "      <th>route_schedule_uuid</th>\n",
       "      <th>route_type</th>\n",
       "      <th>trip_uuid</th>\n",
       "      <th>source_center</th>\n",
       "      <th>source_name</th>\n",
       "      <th>destination_center</th>\n",
       "      <th>destination_name</th>\n",
       "      <th>od_start_time</th>\n",
       "      <th>...</th>\n",
       "      <th>cutoff_timestamp</th>\n",
       "      <th>actual_distance_to_destination</th>\n",
       "      <th>actual_time</th>\n",
       "      <th>osrm_time</th>\n",
       "      <th>osrm_distance</th>\n",
       "      <th>factor</th>\n",
       "      <th>segment_actual_time</th>\n",
       "      <th>segment_osrm_time</th>\n",
       "      <th>segment_osrm_distance</th>\n",
       "      <th>segment_factor</th>\n",
       "    </tr>\n",
       "  </thead>\n",
       "  <tbody>\n",
       "    <tr>\n",
       "      <th>0</th>\n",
       "      <td>training</td>\n",
       "      <td>20-09-2018 02:35</td>\n",
       "      <td>thanos::sroute:eb7bfc78-b351-4c0e-a951-fa3d5c3...</td>\n",
       "      <td>Carting</td>\n",
       "      <td>trip-153741093647649320</td>\n",
       "      <td>IND388121AAA</td>\n",
       "      <td>Anand_VUNagar_DC (Gujarat)</td>\n",
       "      <td>IND388620AAB</td>\n",
       "      <td>Khambhat_MotvdDPP_D (Gujarat)</td>\n",
       "      <td>20-09-2018 03:21</td>\n",
       "      <td>...</td>\n",
       "      <td>20-09-2018 04:27</td>\n",
       "      <td>10.435660</td>\n",
       "      <td>14</td>\n",
       "      <td>11</td>\n",
       "      <td>11.9653</td>\n",
       "      <td>1.272727</td>\n",
       "      <td>14</td>\n",
       "      <td>11</td>\n",
       "      <td>11.9653</td>\n",
       "      <td>1.272727</td>\n",
       "    </tr>\n",
       "    <tr>\n",
       "      <th>1</th>\n",
       "      <td>training</td>\n",
       "      <td>20-09-2018 02:35</td>\n",
       "      <td>thanos::sroute:eb7bfc78-b351-4c0e-a951-fa3d5c3...</td>\n",
       "      <td>Carting</td>\n",
       "      <td>trip-153741093647649320</td>\n",
       "      <td>IND388121AAA</td>\n",
       "      <td>Anand_VUNagar_DC (Gujarat)</td>\n",
       "      <td>IND388620AAB</td>\n",
       "      <td>Khambhat_MotvdDPP_D (Gujarat)</td>\n",
       "      <td>20-09-2018 03:21</td>\n",
       "      <td>...</td>\n",
       "      <td>20-09-2018 04:17</td>\n",
       "      <td>18.936842</td>\n",
       "      <td>24</td>\n",
       "      <td>20</td>\n",
       "      <td>21.7243</td>\n",
       "      <td>1.200000</td>\n",
       "      <td>10</td>\n",
       "      <td>9</td>\n",
       "      <td>9.7590</td>\n",
       "      <td>1.111111</td>\n",
       "    </tr>\n",
       "    <tr>\n",
       "      <th>2</th>\n",
       "      <td>training</td>\n",
       "      <td>20-09-2018 02:35</td>\n",
       "      <td>thanos::sroute:eb7bfc78-b351-4c0e-a951-fa3d5c3...</td>\n",
       "      <td>Carting</td>\n",
       "      <td>trip-153741093647649320</td>\n",
       "      <td>IND388121AAA</td>\n",
       "      <td>Anand_VUNagar_DC (Gujarat)</td>\n",
       "      <td>IND388620AAB</td>\n",
       "      <td>Khambhat_MotvdDPP_D (Gujarat)</td>\n",
       "      <td>20-09-2018 03:21</td>\n",
       "      <td>...</td>\n",
       "      <td>20-09-2018 04:01</td>\n",
       "      <td>27.637279</td>\n",
       "      <td>40</td>\n",
       "      <td>28</td>\n",
       "      <td>32.5395</td>\n",
       "      <td>1.428571</td>\n",
       "      <td>16</td>\n",
       "      <td>7</td>\n",
       "      <td>10.8152</td>\n",
       "      <td>2.285714</td>\n",
       "    </tr>\n",
       "    <tr>\n",
       "      <th>3</th>\n",
       "      <td>training</td>\n",
       "      <td>20-09-2018 02:35</td>\n",
       "      <td>thanos::sroute:eb7bfc78-b351-4c0e-a951-fa3d5c3...</td>\n",
       "      <td>Carting</td>\n",
       "      <td>trip-153741093647649320</td>\n",
       "      <td>IND388121AAA</td>\n",
       "      <td>Anand_VUNagar_DC (Gujarat)</td>\n",
       "      <td>IND388620AAB</td>\n",
       "      <td>Khambhat_MotvdDPP_D (Gujarat)</td>\n",
       "      <td>20-09-2018 03:21</td>\n",
       "      <td>...</td>\n",
       "      <td>20-09-2018 03:39</td>\n",
       "      <td>36.118028</td>\n",
       "      <td>62</td>\n",
       "      <td>40</td>\n",
       "      <td>45.5620</td>\n",
       "      <td>1.550000</td>\n",
       "      <td>21</td>\n",
       "      <td>12</td>\n",
       "      <td>13.0224</td>\n",
       "      <td>1.750000</td>\n",
       "    </tr>\n",
       "    <tr>\n",
       "      <th>4</th>\n",
       "      <td>training</td>\n",
       "      <td>20-09-2018 02:35</td>\n",
       "      <td>thanos::sroute:eb7bfc78-b351-4c0e-a951-fa3d5c3...</td>\n",
       "      <td>Carting</td>\n",
       "      <td>trip-153741093647649320</td>\n",
       "      <td>IND388121AAA</td>\n",
       "      <td>Anand_VUNagar_DC (Gujarat)</td>\n",
       "      <td>IND388620AAB</td>\n",
       "      <td>Khambhat_MotvdDPP_D (Gujarat)</td>\n",
       "      <td>20-09-2018 03:21</td>\n",
       "      <td>...</td>\n",
       "      <td>20-09-2018 03:33</td>\n",
       "      <td>39.386040</td>\n",
       "      <td>68</td>\n",
       "      <td>44</td>\n",
       "      <td>54.2181</td>\n",
       "      <td>1.545455</td>\n",
       "      <td>6</td>\n",
       "      <td>5</td>\n",
       "      <td>3.9153</td>\n",
       "      <td>1.200000</td>\n",
       "    </tr>\n",
       "  </tbody>\n",
       "</table>\n",
       "<p>5 rows × 24 columns</p>\n",
       "</div>"
      ],
      "text/plain": [
       "       data trip_creation_time  \\\n",
       "0  training   20-09-2018 02:35   \n",
       "1  training   20-09-2018 02:35   \n",
       "2  training   20-09-2018 02:35   \n",
       "3  training   20-09-2018 02:35   \n",
       "4  training   20-09-2018 02:35   \n",
       "\n",
       "                                 route_schedule_uuid route_type  \\\n",
       "0  thanos::sroute:eb7bfc78-b351-4c0e-a951-fa3d5c3...    Carting   \n",
       "1  thanos::sroute:eb7bfc78-b351-4c0e-a951-fa3d5c3...    Carting   \n",
       "2  thanos::sroute:eb7bfc78-b351-4c0e-a951-fa3d5c3...    Carting   \n",
       "3  thanos::sroute:eb7bfc78-b351-4c0e-a951-fa3d5c3...    Carting   \n",
       "4  thanos::sroute:eb7bfc78-b351-4c0e-a951-fa3d5c3...    Carting   \n",
       "\n",
       "                 trip_uuid source_center                 source_name  \\\n",
       "0  trip-153741093647649320  IND388121AAA  Anand_VUNagar_DC (Gujarat)   \n",
       "1  trip-153741093647649320  IND388121AAA  Anand_VUNagar_DC (Gujarat)   \n",
       "2  trip-153741093647649320  IND388121AAA  Anand_VUNagar_DC (Gujarat)   \n",
       "3  trip-153741093647649320  IND388121AAA  Anand_VUNagar_DC (Gujarat)   \n",
       "4  trip-153741093647649320  IND388121AAA  Anand_VUNagar_DC (Gujarat)   \n",
       "\n",
       "  destination_center               destination_name     od_start_time  ...  \\\n",
       "0       IND388620AAB  Khambhat_MotvdDPP_D (Gujarat)  20-09-2018 03:21  ...   \n",
       "1       IND388620AAB  Khambhat_MotvdDPP_D (Gujarat)  20-09-2018 03:21  ...   \n",
       "2       IND388620AAB  Khambhat_MotvdDPP_D (Gujarat)  20-09-2018 03:21  ...   \n",
       "3       IND388620AAB  Khambhat_MotvdDPP_D (Gujarat)  20-09-2018 03:21  ...   \n",
       "4       IND388620AAB  Khambhat_MotvdDPP_D (Gujarat)  20-09-2018 03:21  ...   \n",
       "\n",
       "   cutoff_timestamp  actual_distance_to_destination  actual_time  osrm_time  \\\n",
       "0  20-09-2018 04:27                       10.435660           14         11   \n",
       "1  20-09-2018 04:17                       18.936842           24         20   \n",
       "2  20-09-2018 04:01                       27.637279           40         28   \n",
       "3  20-09-2018 03:39                       36.118028           62         40   \n",
       "4  20-09-2018 03:33                       39.386040           68         44   \n",
       "\n",
       "  osrm_distance    factor  segment_actual_time  segment_osrm_time  \\\n",
       "0       11.9653  1.272727                   14                 11   \n",
       "1       21.7243  1.200000                   10                  9   \n",
       "2       32.5395  1.428571                   16                  7   \n",
       "3       45.5620  1.550000                   21                 12   \n",
       "4       54.2181  1.545455                    6                  5   \n",
       "\n",
       "   segment_osrm_distance  segment_factor  \n",
       "0                11.9653        1.272727  \n",
       "1                 9.7590        1.111111  \n",
       "2                10.8152        2.285714  \n",
       "3                13.0224        1.750000  \n",
       "4                 3.9153        1.200000  \n",
       "\n",
       "[5 rows x 24 columns]"
      ]
     },
     "execution_count": 85,
     "metadata": {},
     "output_type": "execute_result"
    }
   ],
   "source": [
    "df.head()"
   ]
  },
  {
   "cell_type": "markdown",
   "id": "dd8ed439",
   "metadata": {},
   "source": [
    "### shape of the Data"
   ]
  },
  {
   "cell_type": "code",
   "execution_count": 86,
   "id": "ce0094b3",
   "metadata": {},
   "outputs": [
    {
     "data": {
      "text/plain": [
       "(144867, 24)"
      ]
     },
     "execution_count": 86,
     "metadata": {},
     "output_type": "execute_result"
    }
   ],
   "source": [
    "df.shape"
   ]
  },
  {
   "cell_type": "code",
   "execution_count": 87,
   "id": "2703fd1e",
   "metadata": {},
   "outputs": [],
   "source": [
    "df.drop(columns=['segment_factor','data','factor','is_cutoff', 'cutoff_factor','cutoff_timestamp',\n",
    "                'route_schedule_uuid'],\n",
    "       axis=1, inplace=True)"
   ]
  },
  {
   "cell_type": "code",
   "execution_count": 88,
   "id": "7462fc60",
   "metadata": {},
   "outputs": [
    {
     "data": {
      "text/plain": [
       "(144867, 17)"
      ]
     },
     "execution_count": 88,
     "metadata": {},
     "output_type": "execute_result"
    }
   ],
   "source": [
    "df.shape"
   ]
  },
  {
   "cell_type": "markdown",
   "id": "3c2a81ea",
   "metadata": {},
   "source": [
    "### Removing of Null Values"
   ]
  },
  {
   "cell_type": "code",
   "execution_count": 89,
   "id": "221ed0ae",
   "metadata": {},
   "outputs": [
    {
     "data": {
      "text/html": [
       "<div>\n",
       "<style scoped>\n",
       "    .dataframe tbody tr th:only-of-type {\n",
       "        vertical-align: middle;\n",
       "    }\n",
       "\n",
       "    .dataframe tbody tr th {\n",
       "        vertical-align: top;\n",
       "    }\n",
       "\n",
       "    .dataframe thead th {\n",
       "        text-align: right;\n",
       "    }\n",
       "</style>\n",
       "<table border=\"1\" class=\"dataframe\">\n",
       "  <thead>\n",
       "    <tr style=\"text-align: right;\">\n",
       "      <th></th>\n",
       "      <th>trip_creation_time</th>\n",
       "      <th>route_type</th>\n",
       "      <th>trip_uuid</th>\n",
       "      <th>source_center</th>\n",
       "      <th>source_name</th>\n",
       "      <th>destination_center</th>\n",
       "      <th>destination_name</th>\n",
       "      <th>od_start_time</th>\n",
       "      <th>od_end_time</th>\n",
       "      <th>start_scan_to_end_scan</th>\n",
       "      <th>actual_distance_to_destination</th>\n",
       "      <th>actual_time</th>\n",
       "      <th>osrm_time</th>\n",
       "      <th>osrm_distance</th>\n",
       "      <th>segment_actual_time</th>\n",
       "      <th>segment_osrm_time</th>\n",
       "      <th>segment_osrm_distance</th>\n",
       "    </tr>\n",
       "  </thead>\n",
       "  <tbody>\n",
       "    <tr>\n",
       "      <th>0</th>\n",
       "      <td>20-09-2018 02:35</td>\n",
       "      <td>Carting</td>\n",
       "      <td>trip-153741093647649320</td>\n",
       "      <td>IND388121AAA</td>\n",
       "      <td>Anand_VUNagar_DC (Gujarat)</td>\n",
       "      <td>IND388620AAB</td>\n",
       "      <td>Khambhat_MotvdDPP_D (Gujarat)</td>\n",
       "      <td>20-09-2018 03:21</td>\n",
       "      <td>20-09-2018 04:47</td>\n",
       "      <td>86</td>\n",
       "      <td>10.435660</td>\n",
       "      <td>14</td>\n",
       "      <td>11</td>\n",
       "      <td>11.9653</td>\n",
       "      <td>14</td>\n",
       "      <td>11</td>\n",
       "      <td>11.9653</td>\n",
       "    </tr>\n",
       "    <tr>\n",
       "      <th>1</th>\n",
       "      <td>20-09-2018 02:35</td>\n",
       "      <td>Carting</td>\n",
       "      <td>trip-153741093647649320</td>\n",
       "      <td>IND388121AAA</td>\n",
       "      <td>Anand_VUNagar_DC (Gujarat)</td>\n",
       "      <td>IND388620AAB</td>\n",
       "      <td>Khambhat_MotvdDPP_D (Gujarat)</td>\n",
       "      <td>20-09-2018 03:21</td>\n",
       "      <td>20-09-2018 04:47</td>\n",
       "      <td>86</td>\n",
       "      <td>18.936842</td>\n",
       "      <td>24</td>\n",
       "      <td>20</td>\n",
       "      <td>21.7243</td>\n",
       "      <td>10</td>\n",
       "      <td>9</td>\n",
       "      <td>9.7590</td>\n",
       "    </tr>\n",
       "    <tr>\n",
       "      <th>2</th>\n",
       "      <td>20-09-2018 02:35</td>\n",
       "      <td>Carting</td>\n",
       "      <td>trip-153741093647649320</td>\n",
       "      <td>IND388121AAA</td>\n",
       "      <td>Anand_VUNagar_DC (Gujarat)</td>\n",
       "      <td>IND388620AAB</td>\n",
       "      <td>Khambhat_MotvdDPP_D (Gujarat)</td>\n",
       "      <td>20-09-2018 03:21</td>\n",
       "      <td>20-09-2018 04:47</td>\n",
       "      <td>86</td>\n",
       "      <td>27.637279</td>\n",
       "      <td>40</td>\n",
       "      <td>28</td>\n",
       "      <td>32.5395</td>\n",
       "      <td>16</td>\n",
       "      <td>7</td>\n",
       "      <td>10.8152</td>\n",
       "    </tr>\n",
       "    <tr>\n",
       "      <th>3</th>\n",
       "      <td>20-09-2018 02:35</td>\n",
       "      <td>Carting</td>\n",
       "      <td>trip-153741093647649320</td>\n",
       "      <td>IND388121AAA</td>\n",
       "      <td>Anand_VUNagar_DC (Gujarat)</td>\n",
       "      <td>IND388620AAB</td>\n",
       "      <td>Khambhat_MotvdDPP_D (Gujarat)</td>\n",
       "      <td>20-09-2018 03:21</td>\n",
       "      <td>20-09-2018 04:47</td>\n",
       "      <td>86</td>\n",
       "      <td>36.118028</td>\n",
       "      <td>62</td>\n",
       "      <td>40</td>\n",
       "      <td>45.5620</td>\n",
       "      <td>21</td>\n",
       "      <td>12</td>\n",
       "      <td>13.0224</td>\n",
       "    </tr>\n",
       "    <tr>\n",
       "      <th>4</th>\n",
       "      <td>20-09-2018 02:35</td>\n",
       "      <td>Carting</td>\n",
       "      <td>trip-153741093647649320</td>\n",
       "      <td>IND388121AAA</td>\n",
       "      <td>Anand_VUNagar_DC (Gujarat)</td>\n",
       "      <td>IND388620AAB</td>\n",
       "      <td>Khambhat_MotvdDPP_D (Gujarat)</td>\n",
       "      <td>20-09-2018 03:21</td>\n",
       "      <td>20-09-2018 04:47</td>\n",
       "      <td>86</td>\n",
       "      <td>39.386040</td>\n",
       "      <td>68</td>\n",
       "      <td>44</td>\n",
       "      <td>54.2181</td>\n",
       "      <td>6</td>\n",
       "      <td>5</td>\n",
       "      <td>3.9153</td>\n",
       "    </tr>\n",
       "    <tr>\n",
       "      <th>...</th>\n",
       "      <td>...</td>\n",
       "      <td>...</td>\n",
       "      <td>...</td>\n",
       "      <td>...</td>\n",
       "      <td>...</td>\n",
       "      <td>...</td>\n",
       "      <td>...</td>\n",
       "      <td>...</td>\n",
       "      <td>...</td>\n",
       "      <td>...</td>\n",
       "      <td>...</td>\n",
       "      <td>...</td>\n",
       "      <td>...</td>\n",
       "      <td>...</td>\n",
       "      <td>...</td>\n",
       "      <td>...</td>\n",
       "      <td>...</td>\n",
       "    </tr>\n",
       "    <tr>\n",
       "      <th>144862</th>\n",
       "      <td>20-09-2018 16:24</td>\n",
       "      <td>Carting</td>\n",
       "      <td>trip-153746066843555182</td>\n",
       "      <td>IND131028AAB</td>\n",
       "      <td>Sonipat_Kundli_H (Haryana)</td>\n",
       "      <td>IND000000ACB</td>\n",
       "      <td>Gurgaon_Bilaspur_HB (Haryana)</td>\n",
       "      <td>20-09-2018 16:24</td>\n",
       "      <td>20-09-2018 23:32</td>\n",
       "      <td>427</td>\n",
       "      <td>45.258278</td>\n",
       "      <td>94</td>\n",
       "      <td>60</td>\n",
       "      <td>67.9280</td>\n",
       "      <td>12</td>\n",
       "      <td>12</td>\n",
       "      <td>8.1858</td>\n",
       "    </tr>\n",
       "    <tr>\n",
       "      <th>144863</th>\n",
       "      <td>20-09-2018 16:24</td>\n",
       "      <td>Carting</td>\n",
       "      <td>trip-153746066843555182</td>\n",
       "      <td>IND131028AAB</td>\n",
       "      <td>Sonipat_Kundli_H (Haryana)</td>\n",
       "      <td>IND000000ACB</td>\n",
       "      <td>Gurgaon_Bilaspur_HB (Haryana)</td>\n",
       "      <td>20-09-2018 16:24</td>\n",
       "      <td>20-09-2018 23:32</td>\n",
       "      <td>427</td>\n",
       "      <td>54.092531</td>\n",
       "      <td>120</td>\n",
       "      <td>76</td>\n",
       "      <td>85.6829</td>\n",
       "      <td>26</td>\n",
       "      <td>21</td>\n",
       "      <td>17.3725</td>\n",
       "    </tr>\n",
       "    <tr>\n",
       "      <th>144864</th>\n",
       "      <td>20-09-2018 16:24</td>\n",
       "      <td>Carting</td>\n",
       "      <td>trip-153746066843555182</td>\n",
       "      <td>IND131028AAB</td>\n",
       "      <td>Sonipat_Kundli_H (Haryana)</td>\n",
       "      <td>IND000000ACB</td>\n",
       "      <td>Gurgaon_Bilaspur_HB (Haryana)</td>\n",
       "      <td>20-09-2018 16:24</td>\n",
       "      <td>20-09-2018 23:32</td>\n",
       "      <td>427</td>\n",
       "      <td>66.163591</td>\n",
       "      <td>140</td>\n",
       "      <td>88</td>\n",
       "      <td>97.0933</td>\n",
       "      <td>20</td>\n",
       "      <td>34</td>\n",
       "      <td>20.7053</td>\n",
       "    </tr>\n",
       "    <tr>\n",
       "      <th>144865</th>\n",
       "      <td>20-09-2018 16:24</td>\n",
       "      <td>Carting</td>\n",
       "      <td>trip-153746066843555182</td>\n",
       "      <td>IND131028AAB</td>\n",
       "      <td>Sonipat_Kundli_H (Haryana)</td>\n",
       "      <td>IND000000ACB</td>\n",
       "      <td>Gurgaon_Bilaspur_HB (Haryana)</td>\n",
       "      <td>20-09-2018 16:24</td>\n",
       "      <td>20-09-2018 23:32</td>\n",
       "      <td>427</td>\n",
       "      <td>73.680667</td>\n",
       "      <td>158</td>\n",
       "      <td>98</td>\n",
       "      <td>111.2709</td>\n",
       "      <td>17</td>\n",
       "      <td>27</td>\n",
       "      <td>18.8885</td>\n",
       "    </tr>\n",
       "    <tr>\n",
       "      <th>144866</th>\n",
       "      <td>20-09-2018 16:24</td>\n",
       "      <td>Carting</td>\n",
       "      <td>trip-153746066843555182</td>\n",
       "      <td>IND131028AAB</td>\n",
       "      <td>Sonipat_Kundli_H (Haryana)</td>\n",
       "      <td>IND000000ACB</td>\n",
       "      <td>Gurgaon_Bilaspur_HB (Haryana)</td>\n",
       "      <td>20-09-2018 16:24</td>\n",
       "      <td>20-09-2018 23:32</td>\n",
       "      <td>427</td>\n",
       "      <td>70.039010</td>\n",
       "      <td>426</td>\n",
       "      <td>95</td>\n",
       "      <td>88.7319</td>\n",
       "      <td>268</td>\n",
       "      <td>9</td>\n",
       "      <td>8.8088</td>\n",
       "    </tr>\n",
       "  </tbody>\n",
       "</table>\n",
       "<p>144867 rows × 17 columns</p>\n",
       "</div>"
      ],
      "text/plain": [
       "       trip_creation_time route_type                trip_uuid source_center  \\\n",
       "0        20-09-2018 02:35    Carting  trip-153741093647649320  IND388121AAA   \n",
       "1        20-09-2018 02:35    Carting  trip-153741093647649320  IND388121AAA   \n",
       "2        20-09-2018 02:35    Carting  trip-153741093647649320  IND388121AAA   \n",
       "3        20-09-2018 02:35    Carting  trip-153741093647649320  IND388121AAA   \n",
       "4        20-09-2018 02:35    Carting  trip-153741093647649320  IND388121AAA   \n",
       "...                   ...        ...                      ...           ...   \n",
       "144862   20-09-2018 16:24    Carting  trip-153746066843555182  IND131028AAB   \n",
       "144863   20-09-2018 16:24    Carting  trip-153746066843555182  IND131028AAB   \n",
       "144864   20-09-2018 16:24    Carting  trip-153746066843555182  IND131028AAB   \n",
       "144865   20-09-2018 16:24    Carting  trip-153746066843555182  IND131028AAB   \n",
       "144866   20-09-2018 16:24    Carting  trip-153746066843555182  IND131028AAB   \n",
       "\n",
       "                       source_name destination_center  \\\n",
       "0       Anand_VUNagar_DC (Gujarat)       IND388620AAB   \n",
       "1       Anand_VUNagar_DC (Gujarat)       IND388620AAB   \n",
       "2       Anand_VUNagar_DC (Gujarat)       IND388620AAB   \n",
       "3       Anand_VUNagar_DC (Gujarat)       IND388620AAB   \n",
       "4       Anand_VUNagar_DC (Gujarat)       IND388620AAB   \n",
       "...                            ...                ...   \n",
       "144862  Sonipat_Kundli_H (Haryana)       IND000000ACB   \n",
       "144863  Sonipat_Kundli_H (Haryana)       IND000000ACB   \n",
       "144864  Sonipat_Kundli_H (Haryana)       IND000000ACB   \n",
       "144865  Sonipat_Kundli_H (Haryana)       IND000000ACB   \n",
       "144866  Sonipat_Kundli_H (Haryana)       IND000000ACB   \n",
       "\n",
       "                     destination_name     od_start_time       od_end_time  \\\n",
       "0       Khambhat_MotvdDPP_D (Gujarat)  20-09-2018 03:21  20-09-2018 04:47   \n",
       "1       Khambhat_MotvdDPP_D (Gujarat)  20-09-2018 03:21  20-09-2018 04:47   \n",
       "2       Khambhat_MotvdDPP_D (Gujarat)  20-09-2018 03:21  20-09-2018 04:47   \n",
       "3       Khambhat_MotvdDPP_D (Gujarat)  20-09-2018 03:21  20-09-2018 04:47   \n",
       "4       Khambhat_MotvdDPP_D (Gujarat)  20-09-2018 03:21  20-09-2018 04:47   \n",
       "...                               ...               ...               ...   \n",
       "144862  Gurgaon_Bilaspur_HB (Haryana)  20-09-2018 16:24  20-09-2018 23:32   \n",
       "144863  Gurgaon_Bilaspur_HB (Haryana)  20-09-2018 16:24  20-09-2018 23:32   \n",
       "144864  Gurgaon_Bilaspur_HB (Haryana)  20-09-2018 16:24  20-09-2018 23:32   \n",
       "144865  Gurgaon_Bilaspur_HB (Haryana)  20-09-2018 16:24  20-09-2018 23:32   \n",
       "144866  Gurgaon_Bilaspur_HB (Haryana)  20-09-2018 16:24  20-09-2018 23:32   \n",
       "\n",
       "        start_scan_to_end_scan  actual_distance_to_destination  actual_time  \\\n",
       "0                           86                       10.435660           14   \n",
       "1                           86                       18.936842           24   \n",
       "2                           86                       27.637279           40   \n",
       "3                           86                       36.118028           62   \n",
       "4                           86                       39.386040           68   \n",
       "...                        ...                             ...          ...   \n",
       "144862                     427                       45.258278           94   \n",
       "144863                     427                       54.092531          120   \n",
       "144864                     427                       66.163591          140   \n",
       "144865                     427                       73.680667          158   \n",
       "144866                     427                       70.039010          426   \n",
       "\n",
       "        osrm_time  osrm_distance  segment_actual_time  segment_osrm_time  \\\n",
       "0              11        11.9653                   14                 11   \n",
       "1              20        21.7243                   10                  9   \n",
       "2              28        32.5395                   16                  7   \n",
       "3              40        45.5620                   21                 12   \n",
       "4              44        54.2181                    6                  5   \n",
       "...           ...            ...                  ...                ...   \n",
       "144862         60        67.9280                   12                 12   \n",
       "144863         76        85.6829                   26                 21   \n",
       "144864         88        97.0933                   20                 34   \n",
       "144865         98       111.2709                   17                 27   \n",
       "144866         95        88.7319                  268                  9   \n",
       "\n",
       "        segment_osrm_distance  \n",
       "0                     11.9653  \n",
       "1                      9.7590  \n",
       "2                     10.8152  \n",
       "3                     13.0224  \n",
       "4                      3.9153  \n",
       "...                       ...  \n",
       "144862                 8.1858  \n",
       "144863                17.3725  \n",
       "144864                20.7053  \n",
       "144865                18.8885  \n",
       "144866                 8.8088  \n",
       "\n",
       "[144867 rows x 17 columns]"
      ]
     },
     "execution_count": 89,
     "metadata": {},
     "output_type": "execute_result"
    }
   ],
   "source": [
    "df.dropna(how = \"any\")\n",
    "df.reset_index(drop=True)"
   ]
  },
  {
   "cell_type": "code",
   "execution_count": 90,
   "id": "494e7fb0",
   "metadata": {
    "scrolled": true
   },
   "outputs": [
    {
     "name": "stdout",
     "output_type": "stream",
     "text": [
      "<class 'pandas.core.frame.DataFrame'>\n",
      "RangeIndex: 144867 entries, 0 to 144866\n",
      "Data columns (total 17 columns):\n",
      " #   Column                          Non-Null Count   Dtype  \n",
      "---  ------                          --------------   -----  \n",
      " 0   trip_creation_time              144867 non-null  object \n",
      " 1   route_type                      144867 non-null  object \n",
      " 2   trip_uuid                       144867 non-null  object \n",
      " 3   source_center                   144867 non-null  object \n",
      " 4   source_name                     144574 non-null  object \n",
      " 5   destination_center              144867 non-null  object \n",
      " 6   destination_name                144606 non-null  object \n",
      " 7   od_start_time                   144867 non-null  object \n",
      " 8   od_end_time                     144867 non-null  object \n",
      " 9   start_scan_to_end_scan          144867 non-null  int64  \n",
      " 10  actual_distance_to_destination  144867 non-null  float64\n",
      " 11  actual_time                     144867 non-null  int64  \n",
      " 12  osrm_time                       144867 non-null  int64  \n",
      " 13  osrm_distance                   144867 non-null  float64\n",
      " 14  segment_actual_time             144867 non-null  int64  \n",
      " 15  segment_osrm_time               144867 non-null  int64  \n",
      " 16  segment_osrm_distance           144867 non-null  float64\n",
      "dtypes: float64(3), int64(5), object(9)\n",
      "memory usage: 18.8+ MB\n"
     ]
    }
   ],
   "source": [
    "df.info()"
   ]
  },
  {
   "cell_type": "code",
   "execution_count": 91,
   "id": "b47389f4",
   "metadata": {},
   "outputs": [
    {
     "data": {
      "text/plain": [
       "trip_creation_time                  0\n",
       "route_type                          0\n",
       "trip_uuid                           0\n",
       "source_center                       0\n",
       "source_name                       293\n",
       "destination_center                  0\n",
       "destination_name                  261\n",
       "od_start_time                       0\n",
       "od_end_time                         0\n",
       "start_scan_to_end_scan              0\n",
       "actual_distance_to_destination      0\n",
       "actual_time                         0\n",
       "osrm_time                           0\n",
       "osrm_distance                       0\n",
       "segment_actual_time                 0\n",
       "segment_osrm_time                   0\n",
       "segment_osrm_distance               0\n",
       "dtype: int64"
      ]
     },
     "execution_count": 91,
     "metadata": {},
     "output_type": "execute_result"
    }
   ],
   "source": [
    "df.isna().sum()"
   ]
  },
  {
   "cell_type": "code",
   "execution_count": 92,
   "id": "aa5bfc2c",
   "metadata": {},
   "outputs": [],
   "source": [
    "d_grouped = df.groupby([\"trip_uuid\",\"source_center\",\"destination_center\"])"
   ]
  },
  {
   "cell_type": "code",
   "execution_count": 93,
   "id": "a4bbe150",
   "metadata": {},
   "outputs": [
    {
     "data": {
      "text/html": [
       "<div>\n",
       "<style scoped>\n",
       "    .dataframe tbody tr th:only-of-type {\n",
       "        vertical-align: middle;\n",
       "    }\n",
       "\n",
       "    .dataframe tbody tr th {\n",
       "        vertical-align: top;\n",
       "    }\n",
       "\n",
       "    .dataframe thead th {\n",
       "        text-align: right;\n",
       "    }\n",
       "</style>\n",
       "<table border=\"1\" class=\"dataframe\">\n",
       "  <thead>\n",
       "    <tr style=\"text-align: right;\">\n",
       "      <th></th>\n",
       "      <th>trip_creation_time</th>\n",
       "      <th>route_type</th>\n",
       "      <th>trip_uuid</th>\n",
       "      <th>source_center</th>\n",
       "      <th>source_name</th>\n",
       "      <th>destination_center</th>\n",
       "      <th>destination_name</th>\n",
       "      <th>od_start_time</th>\n",
       "      <th>od_end_time</th>\n",
       "      <th>start_scan_to_end_scan</th>\n",
       "      <th>actual_distance_to_destination</th>\n",
       "      <th>actual_time</th>\n",
       "      <th>osrm_time</th>\n",
       "      <th>osrm_distance</th>\n",
       "      <th>segment_actual_time</th>\n",
       "      <th>segment_osrm_time</th>\n",
       "      <th>segment_osrm_distance</th>\n",
       "    </tr>\n",
       "  </thead>\n",
       "  <tbody>\n",
       "    <tr>\n",
       "      <th>0</th>\n",
       "      <td>20-09-2018 02:35</td>\n",
       "      <td>Carting</td>\n",
       "      <td>trip-153741093647649320</td>\n",
       "      <td>IND388121AAA</td>\n",
       "      <td>Anand_VUNagar_DC (Gujarat)</td>\n",
       "      <td>IND388620AAB</td>\n",
       "      <td>Khambhat_MotvdDPP_D (Gujarat)</td>\n",
       "      <td>20-09-2018 03:21</td>\n",
       "      <td>20-09-2018 04:47</td>\n",
       "      <td>86</td>\n",
       "      <td>10.435660</td>\n",
       "      <td>14</td>\n",
       "      <td>11</td>\n",
       "      <td>11.9653</td>\n",
       "      <td>14</td>\n",
       "      <td>11</td>\n",
       "      <td>11.9653</td>\n",
       "    </tr>\n",
       "    <tr>\n",
       "      <th>1</th>\n",
       "      <td>20-09-2018 02:35</td>\n",
       "      <td>Carting</td>\n",
       "      <td>trip-153741093647649320</td>\n",
       "      <td>IND388121AAA</td>\n",
       "      <td>Anand_VUNagar_DC (Gujarat)</td>\n",
       "      <td>IND388620AAB</td>\n",
       "      <td>Khambhat_MotvdDPP_D (Gujarat)</td>\n",
       "      <td>20-09-2018 03:21</td>\n",
       "      <td>20-09-2018 04:47</td>\n",
       "      <td>86</td>\n",
       "      <td>18.936842</td>\n",
       "      <td>24</td>\n",
       "      <td>20</td>\n",
       "      <td>21.7243</td>\n",
       "      <td>10</td>\n",
       "      <td>9</td>\n",
       "      <td>9.7590</td>\n",
       "    </tr>\n",
       "    <tr>\n",
       "      <th>2</th>\n",
       "      <td>20-09-2018 02:35</td>\n",
       "      <td>Carting</td>\n",
       "      <td>trip-153741093647649320</td>\n",
       "      <td>IND388121AAA</td>\n",
       "      <td>Anand_VUNagar_DC (Gujarat)</td>\n",
       "      <td>IND388620AAB</td>\n",
       "      <td>Khambhat_MotvdDPP_D (Gujarat)</td>\n",
       "      <td>20-09-2018 03:21</td>\n",
       "      <td>20-09-2018 04:47</td>\n",
       "      <td>86</td>\n",
       "      <td>27.637279</td>\n",
       "      <td>40</td>\n",
       "      <td>28</td>\n",
       "      <td>32.5395</td>\n",
       "      <td>16</td>\n",
       "      <td>7</td>\n",
       "      <td>10.8152</td>\n",
       "    </tr>\n",
       "    <tr>\n",
       "      <th>3</th>\n",
       "      <td>20-09-2018 02:35</td>\n",
       "      <td>Carting</td>\n",
       "      <td>trip-153741093647649320</td>\n",
       "      <td>IND388121AAA</td>\n",
       "      <td>Anand_VUNagar_DC (Gujarat)</td>\n",
       "      <td>IND388620AAB</td>\n",
       "      <td>Khambhat_MotvdDPP_D (Gujarat)</td>\n",
       "      <td>20-09-2018 03:21</td>\n",
       "      <td>20-09-2018 04:47</td>\n",
       "      <td>86</td>\n",
       "      <td>36.118028</td>\n",
       "      <td>62</td>\n",
       "      <td>40</td>\n",
       "      <td>45.5620</td>\n",
       "      <td>21</td>\n",
       "      <td>12</td>\n",
       "      <td>13.0224</td>\n",
       "    </tr>\n",
       "    <tr>\n",
       "      <th>4</th>\n",
       "      <td>20-09-2018 02:35</td>\n",
       "      <td>Carting</td>\n",
       "      <td>trip-153741093647649320</td>\n",
       "      <td>IND388121AAA</td>\n",
       "      <td>Anand_VUNagar_DC (Gujarat)</td>\n",
       "      <td>IND388620AAB</td>\n",
       "      <td>Khambhat_MotvdDPP_D (Gujarat)</td>\n",
       "      <td>20-09-2018 03:21</td>\n",
       "      <td>20-09-2018 04:47</td>\n",
       "      <td>86</td>\n",
       "      <td>39.386040</td>\n",
       "      <td>68</td>\n",
       "      <td>44</td>\n",
       "      <td>54.2181</td>\n",
       "      <td>6</td>\n",
       "      <td>5</td>\n",
       "      <td>3.9153</td>\n",
       "    </tr>\n",
       "    <tr>\n",
       "      <th>5</th>\n",
       "      <td>20-09-2018 02:35</td>\n",
       "      <td>Carting</td>\n",
       "      <td>trip-153741093647649320</td>\n",
       "      <td>IND388620AAB</td>\n",
       "      <td>Khambhat_MotvdDPP_D (Gujarat)</td>\n",
       "      <td>IND388320AAA</td>\n",
       "      <td>Anand_Vaghasi_IP (Gujarat)</td>\n",
       "      <td>20-09-2018 04:47</td>\n",
       "      <td>20-09-2018 06:36</td>\n",
       "      <td>109</td>\n",
       "      <td>10.403038</td>\n",
       "      <td>15</td>\n",
       "      <td>11</td>\n",
       "      <td>12.1171</td>\n",
       "      <td>15</td>\n",
       "      <td>11</td>\n",
       "      <td>12.1171</td>\n",
       "    </tr>\n",
       "    <tr>\n",
       "      <th>6</th>\n",
       "      <td>20-09-2018 02:35</td>\n",
       "      <td>Carting</td>\n",
       "      <td>trip-153741093647649320</td>\n",
       "      <td>IND388620AAB</td>\n",
       "      <td>Khambhat_MotvdDPP_D (Gujarat)</td>\n",
       "      <td>IND388320AAA</td>\n",
       "      <td>Anand_Vaghasi_IP (Gujarat)</td>\n",
       "      <td>20-09-2018 04:47</td>\n",
       "      <td>20-09-2018 06:36</td>\n",
       "      <td>109</td>\n",
       "      <td>18.045481</td>\n",
       "      <td>44</td>\n",
       "      <td>17</td>\n",
       "      <td>21.2890</td>\n",
       "      <td>28</td>\n",
       "      <td>6</td>\n",
       "      <td>9.1719</td>\n",
       "    </tr>\n",
       "    <tr>\n",
       "      <th>7</th>\n",
       "      <td>20-09-2018 02:35</td>\n",
       "      <td>Carting</td>\n",
       "      <td>trip-153741093647649320</td>\n",
       "      <td>IND388620AAB</td>\n",
       "      <td>Khambhat_MotvdDPP_D (Gujarat)</td>\n",
       "      <td>IND388320AAA</td>\n",
       "      <td>Anand_Vaghasi_IP (Gujarat)</td>\n",
       "      <td>20-09-2018 04:47</td>\n",
       "      <td>20-09-2018 06:36</td>\n",
       "      <td>109</td>\n",
       "      <td>28.061896</td>\n",
       "      <td>65</td>\n",
       "      <td>29</td>\n",
       "      <td>35.8252</td>\n",
       "      <td>21</td>\n",
       "      <td>11</td>\n",
       "      <td>14.5362</td>\n",
       "    </tr>\n",
       "    <tr>\n",
       "      <th>8</th>\n",
       "      <td>20-09-2018 02:35</td>\n",
       "      <td>Carting</td>\n",
       "      <td>trip-153741093647649320</td>\n",
       "      <td>IND388620AAB</td>\n",
       "      <td>Khambhat_MotvdDPP_D (Gujarat)</td>\n",
       "      <td>IND388320AAA</td>\n",
       "      <td>Anand_Vaghasi_IP (Gujarat)</td>\n",
       "      <td>20-09-2018 04:47</td>\n",
       "      <td>20-09-2018 06:36</td>\n",
       "      <td>109</td>\n",
       "      <td>38.939167</td>\n",
       "      <td>76</td>\n",
       "      <td>39</td>\n",
       "      <td>47.1900</td>\n",
       "      <td>10</td>\n",
       "      <td>10</td>\n",
       "      <td>11.3648</td>\n",
       "    </tr>\n",
       "    <tr>\n",
       "      <th>9</th>\n",
       "      <td>20-09-2018 02:35</td>\n",
       "      <td>Carting</td>\n",
       "      <td>trip-153741093647649320</td>\n",
       "      <td>IND388620AAB</td>\n",
       "      <td>Khambhat_MotvdDPP_D (Gujarat)</td>\n",
       "      <td>IND388320AAA</td>\n",
       "      <td>Anand_Vaghasi_IP (Gujarat)</td>\n",
       "      <td>20-09-2018 04:47</td>\n",
       "      <td>20-09-2018 06:36</td>\n",
       "      <td>109</td>\n",
       "      <td>43.595802</td>\n",
       "      <td>102</td>\n",
       "      <td>45</td>\n",
       "      <td>53.2334</td>\n",
       "      <td>26</td>\n",
       "      <td>6</td>\n",
       "      <td>6.0434</td>\n",
       "    </tr>\n",
       "  </tbody>\n",
       "</table>\n",
       "</div>"
      ],
      "text/plain": [
       "  trip_creation_time route_type                trip_uuid source_center  \\\n",
       "0   20-09-2018 02:35    Carting  trip-153741093647649320  IND388121AAA   \n",
       "1   20-09-2018 02:35    Carting  trip-153741093647649320  IND388121AAA   \n",
       "2   20-09-2018 02:35    Carting  trip-153741093647649320  IND388121AAA   \n",
       "3   20-09-2018 02:35    Carting  trip-153741093647649320  IND388121AAA   \n",
       "4   20-09-2018 02:35    Carting  trip-153741093647649320  IND388121AAA   \n",
       "5   20-09-2018 02:35    Carting  trip-153741093647649320  IND388620AAB   \n",
       "6   20-09-2018 02:35    Carting  trip-153741093647649320  IND388620AAB   \n",
       "7   20-09-2018 02:35    Carting  trip-153741093647649320  IND388620AAB   \n",
       "8   20-09-2018 02:35    Carting  trip-153741093647649320  IND388620AAB   \n",
       "9   20-09-2018 02:35    Carting  trip-153741093647649320  IND388620AAB   \n",
       "\n",
       "                     source_name destination_center  \\\n",
       "0     Anand_VUNagar_DC (Gujarat)       IND388620AAB   \n",
       "1     Anand_VUNagar_DC (Gujarat)       IND388620AAB   \n",
       "2     Anand_VUNagar_DC (Gujarat)       IND388620AAB   \n",
       "3     Anand_VUNagar_DC (Gujarat)       IND388620AAB   \n",
       "4     Anand_VUNagar_DC (Gujarat)       IND388620AAB   \n",
       "5  Khambhat_MotvdDPP_D (Gujarat)       IND388320AAA   \n",
       "6  Khambhat_MotvdDPP_D (Gujarat)       IND388320AAA   \n",
       "7  Khambhat_MotvdDPP_D (Gujarat)       IND388320AAA   \n",
       "8  Khambhat_MotvdDPP_D (Gujarat)       IND388320AAA   \n",
       "9  Khambhat_MotvdDPP_D (Gujarat)       IND388320AAA   \n",
       "\n",
       "                destination_name     od_start_time       od_end_time  \\\n",
       "0  Khambhat_MotvdDPP_D (Gujarat)  20-09-2018 03:21  20-09-2018 04:47   \n",
       "1  Khambhat_MotvdDPP_D (Gujarat)  20-09-2018 03:21  20-09-2018 04:47   \n",
       "2  Khambhat_MotvdDPP_D (Gujarat)  20-09-2018 03:21  20-09-2018 04:47   \n",
       "3  Khambhat_MotvdDPP_D (Gujarat)  20-09-2018 03:21  20-09-2018 04:47   \n",
       "4  Khambhat_MotvdDPP_D (Gujarat)  20-09-2018 03:21  20-09-2018 04:47   \n",
       "5     Anand_Vaghasi_IP (Gujarat)  20-09-2018 04:47  20-09-2018 06:36   \n",
       "6     Anand_Vaghasi_IP (Gujarat)  20-09-2018 04:47  20-09-2018 06:36   \n",
       "7     Anand_Vaghasi_IP (Gujarat)  20-09-2018 04:47  20-09-2018 06:36   \n",
       "8     Anand_Vaghasi_IP (Gujarat)  20-09-2018 04:47  20-09-2018 06:36   \n",
       "9     Anand_Vaghasi_IP (Gujarat)  20-09-2018 04:47  20-09-2018 06:36   \n",
       "\n",
       "   start_scan_to_end_scan  actual_distance_to_destination  actual_time  \\\n",
       "0                      86                       10.435660           14   \n",
       "1                      86                       18.936842           24   \n",
       "2                      86                       27.637279           40   \n",
       "3                      86                       36.118028           62   \n",
       "4                      86                       39.386040           68   \n",
       "5                     109                       10.403038           15   \n",
       "6                     109                       18.045481           44   \n",
       "7                     109                       28.061896           65   \n",
       "8                     109                       38.939167           76   \n",
       "9                     109                       43.595802          102   \n",
       "\n",
       "   osrm_time  osrm_distance  segment_actual_time  segment_osrm_time  \\\n",
       "0         11        11.9653                   14                 11   \n",
       "1         20        21.7243                   10                  9   \n",
       "2         28        32.5395                   16                  7   \n",
       "3         40        45.5620                   21                 12   \n",
       "4         44        54.2181                    6                  5   \n",
       "5         11        12.1171                   15                 11   \n",
       "6         17        21.2890                   28                  6   \n",
       "7         29        35.8252                   21                 11   \n",
       "8         39        47.1900                   10                 10   \n",
       "9         45        53.2334                   26                  6   \n",
       "\n",
       "   segment_osrm_distance  \n",
       "0                11.9653  \n",
       "1                 9.7590  \n",
       "2                10.8152  \n",
       "3                13.0224  \n",
       "4                 3.9153  \n",
       "5                12.1171  \n",
       "6                 9.1719  \n",
       "7                14.5362  \n",
       "8                11.3648  \n",
       "9                 6.0434  "
      ]
     },
     "execution_count": 93,
     "metadata": {},
     "output_type": "execute_result"
    }
   ],
   "source": [
    "df[df[\"trip_uuid\"]==\"trip-153741093647649320\"]"
   ]
  },
  {
   "cell_type": "markdown",
   "id": "b1e726c9",
   "metadata": {},
   "source": [
    "### Feature Engineering"
   ]
  },
  {
   "cell_type": "code",
   "execution_count": 94,
   "id": "ae56b547",
   "metadata": {},
   "outputs": [],
   "source": [
    "# Converting time column to pandas datetime\n",
    "df[\"od_start_time\"] = pd.to_datetime(df[\"od_start_time\"])\n",
    "df[\"od_end_time\"]= pd.to_datetime(df[\"od_end_time\"])\n",
    "df[\"trip_creation_time\"]= pd.to_datetime(df[\"trip_creation_time\"])"
   ]
  },
  {
   "cell_type": "code",
   "execution_count": 95,
   "id": "fa7463fe",
   "metadata": {},
   "outputs": [],
   "source": [
    "#extracting day, month & year from trip_creation_time \n",
    "df['trip_creation_month']=df['trip_creation_time'].dt.month\n",
    "df['trip_creation_year']=df['trip_creation_time'].dt.year\n",
    "df['trip_creation_day']=df['trip_creation_time'].dt.day"
   ]
  },
  {
   "cell_type": "code",
   "execution_count": 96,
   "id": "341e6cf1",
   "metadata": {},
   "outputs": [],
   "source": [
    "#difference between od_start & od_end time in hours\n",
    "df['Timediff_start_end_H']=round((df['od_end_time']-df['od_start_time'])/pd.Timedelta(minutes=1),2)"
   ]
  },
  {
   "cell_type": "code",
   "execution_count": 97,
   "id": "f926e630",
   "metadata": {},
   "outputs": [],
   "source": [
    "#as below mentioned columns are comprising of segment related details we will do a cum sum\n",
    "df['agg_segment_actual_time']=df.groupby(['trip_uuid','source_center','destination_center'])['segment_actual_time'].transform('cumsum')\n",
    "df['agg_segment_osrm_time']=df.groupby(['trip_uuid','source_center','destination_center'])['segment_osrm_time'].transform('cumsum')\n",
    "df['agg_segment_osrm_distance']=df.groupby(['trip_uuid','source_center','destination_center'])['segment_osrm_distance'].transform('cumsum')"
   ]
  },
  {
   "cell_type": "code",
   "execution_count": 98,
   "id": "0a4c39a4",
   "metadata": {},
   "outputs": [],
   "source": [
    "#After finding out the cumsum of above columns we will pick their max \n",
    "df['agg_segment_actual_time1']=df.groupby(['trip_uuid','source_center','destination_center'])['agg_segment_actual_time'].transform('max')\n",
    "df['agg_segment_osrm_time1']=df.groupby(['trip_uuid','source_center','destination_center'])['agg_segment_osrm_time'].transform('max')\n",
    "df['agg_segment_osrm_distance1']=df.groupby(['trip_uuid','source_center','destination_center'])['agg_segment_osrm_distance'].transform('max')"
   ]
  },
  {
   "cell_type": "code",
   "execution_count": 99,
   "id": "ceb09daf",
   "metadata": {},
   "outputs": [],
   "source": [
    "# aggregation of below mentioned based on their Trip_uuid, Source center and Destination center \n",
    "# as they are mentioned as a cumsum in data dictionary we will take max\n",
    "df['agg_distance_to_destination']=df.groupby(['trip_uuid','source_center','destination_center'])['actual_distance_to_destination'].transform('max')\n",
    "df['agg_actual_time']=df.groupby(['trip_uuid','source_center','destination_center'])['actual_time'].transform('max')\n",
    "df['agg_osrm_time']=df.groupby(['trip_uuid','source_center','destination_center'])['osrm_time'].transform('max')\n",
    "df['agg_osrm_distance']=df.groupby(['trip_uuid','source_center','destination_center'])['osrm_distance'].transform('max')"
   ]
  },
  {
   "cell_type": "code",
   "execution_count": 100,
   "id": "6c43ca11",
   "metadata": {},
   "outputs": [],
   "source": [
    "#creating column with city place state from source centre & destination centre\n",
    "df[['Source_City','Source_Place','Source_Code/State']]=df['source_name'].str.rsplit('_',2, expand=True)\n",
    "df[['destination_City','destination_Place','destination_Code/State']]=df['destination_name'].str.rsplit('_',2, expand=True)"
   ]
  },
  {
   "cell_type": "code",
   "execution_count": 101,
   "id": "05c6952a",
   "metadata": {},
   "outputs": [],
   "source": [
    "\n",
    "df[['Source_Code','Source_State']]=df['Source_Code/State'].str.rsplit('(',2, expand=True)\n",
    "df[['destination_Code','destination_State']]=df['destination_Code/State'].str.rsplit('(',2, expand=True)"
   ]
  },
  {
   "cell_type": "code",
   "execution_count": 102,
   "id": "af345d49",
   "metadata": {},
   "outputs": [],
   "source": [
    "#dropping the existing columns as we have already got engineered features from them\n",
    "df.drop(columns=['od_end_time','od_start_time','trip_creation_time','source_name','destination_name'],axis=1,inplace=True)"
   ]
  },
  {
   "cell_type": "code",
   "execution_count": 103,
   "id": "f017fc52",
   "metadata": {},
   "outputs": [
    {
     "data": {
      "text/plain": [
       "(144867, 36)"
      ]
     },
     "execution_count": 103,
     "metadata": {},
     "output_type": "execute_result"
    }
   ],
   "source": [
    "df.shape"
   ]
  },
  {
   "cell_type": "code",
   "execution_count": 104,
   "id": "8600157d",
   "metadata": {},
   "outputs": [
    {
     "data": {
      "text/plain": [
       "0"
      ]
     },
     "execution_count": 104,
     "metadata": {},
     "output_type": "execute_result"
    }
   ],
   "source": [
    "df.duplicated().sum()"
   ]
  },
  {
   "cell_type": "code",
   "execution_count": 105,
   "id": "9b6c748f",
   "metadata": {},
   "outputs": [
    {
     "data": {
      "text/html": [
       "<div>\n",
       "<style scoped>\n",
       "    .dataframe tbody tr th:only-of-type {\n",
       "        vertical-align: middle;\n",
       "    }\n",
       "\n",
       "    .dataframe tbody tr th {\n",
       "        vertical-align: top;\n",
       "    }\n",
       "\n",
       "    .dataframe thead th {\n",
       "        text-align: right;\n",
       "    }\n",
       "</style>\n",
       "<table border=\"1\" class=\"dataframe\">\n",
       "  <thead>\n",
       "    <tr style=\"text-align: right;\">\n",
       "      <th></th>\n",
       "      <th>route_type</th>\n",
       "      <th>trip_uuid</th>\n",
       "      <th>source_center</th>\n",
       "      <th>destination_center</th>\n",
       "      <th>start_scan_to_end_scan</th>\n",
       "      <th>actual_distance_to_destination</th>\n",
       "      <th>actual_time</th>\n",
       "      <th>osrm_time</th>\n",
       "      <th>osrm_distance</th>\n",
       "      <th>segment_actual_time</th>\n",
       "      <th>...</th>\n",
       "      <th>Source_City</th>\n",
       "      <th>Source_Place</th>\n",
       "      <th>Source_Code/State</th>\n",
       "      <th>destination_City</th>\n",
       "      <th>destination_Place</th>\n",
       "      <th>destination_Code/State</th>\n",
       "      <th>Source_Code</th>\n",
       "      <th>Source_State</th>\n",
       "      <th>destination_Code</th>\n",
       "      <th>destination_State</th>\n",
       "    </tr>\n",
       "  </thead>\n",
       "  <tbody>\n",
       "    <tr>\n",
       "      <th>0</th>\n",
       "      <td>Carting</td>\n",
       "      <td>trip-153741093647649320</td>\n",
       "      <td>IND388121AAA</td>\n",
       "      <td>IND388620AAB</td>\n",
       "      <td>86</td>\n",
       "      <td>10.435660</td>\n",
       "      <td>14</td>\n",
       "      <td>11</td>\n",
       "      <td>11.9653</td>\n",
       "      <td>14</td>\n",
       "      <td>...</td>\n",
       "      <td>Anand</td>\n",
       "      <td>VUNagar</td>\n",
       "      <td>DC (Gujarat)</td>\n",
       "      <td>Khambhat</td>\n",
       "      <td>MotvdDPP</td>\n",
       "      <td>D (Gujarat)</td>\n",
       "      <td>DC</td>\n",
       "      <td>Gujarat)</td>\n",
       "      <td>D</td>\n",
       "      <td>Gujarat)</td>\n",
       "    </tr>\n",
       "    <tr>\n",
       "      <th>1</th>\n",
       "      <td>Carting</td>\n",
       "      <td>trip-153741093647649320</td>\n",
       "      <td>IND388121AAA</td>\n",
       "      <td>IND388620AAB</td>\n",
       "      <td>86</td>\n",
       "      <td>18.936842</td>\n",
       "      <td>24</td>\n",
       "      <td>20</td>\n",
       "      <td>21.7243</td>\n",
       "      <td>10</td>\n",
       "      <td>...</td>\n",
       "      <td>Anand</td>\n",
       "      <td>VUNagar</td>\n",
       "      <td>DC (Gujarat)</td>\n",
       "      <td>Khambhat</td>\n",
       "      <td>MotvdDPP</td>\n",
       "      <td>D (Gujarat)</td>\n",
       "      <td>DC</td>\n",
       "      <td>Gujarat)</td>\n",
       "      <td>D</td>\n",
       "      <td>Gujarat)</td>\n",
       "    </tr>\n",
       "  </tbody>\n",
       "</table>\n",
       "<p>2 rows × 36 columns</p>\n",
       "</div>"
      ],
      "text/plain": [
       "  route_type                trip_uuid source_center destination_center  \\\n",
       "0    Carting  trip-153741093647649320  IND388121AAA       IND388620AAB   \n",
       "1    Carting  trip-153741093647649320  IND388121AAA       IND388620AAB   \n",
       "\n",
       "   start_scan_to_end_scan  actual_distance_to_destination  actual_time  \\\n",
       "0                      86                       10.435660           14   \n",
       "1                      86                       18.936842           24   \n",
       "\n",
       "   osrm_time  osrm_distance  segment_actual_time  ...  Source_City  \\\n",
       "0         11        11.9653                   14  ...        Anand   \n",
       "1         20        21.7243                   10  ...        Anand   \n",
       "\n",
       "   Source_Place  Source_Code/State  destination_City  destination_Place  \\\n",
       "0       VUNagar       DC (Gujarat)          Khambhat           MotvdDPP   \n",
       "1       VUNagar       DC (Gujarat)          Khambhat           MotvdDPP   \n",
       "\n",
       "   destination_Code/State  Source_Code  Source_State  destination_Code  \\\n",
       "0             D (Gujarat)          DC       Gujarat)                D    \n",
       "1             D (Gujarat)          DC       Gujarat)                D    \n",
       "\n",
       "   destination_State  \n",
       "0           Gujarat)  \n",
       "1           Gujarat)  \n",
       "\n",
       "[2 rows x 36 columns]"
      ]
     },
     "execution_count": 105,
     "metadata": {},
     "output_type": "execute_result"
    }
   ],
   "source": [
    "df.head(2)"
   ]
  },
  {
   "cell_type": "code",
   "execution_count": 106,
   "id": "c4fb6f07",
   "metadata": {},
   "outputs": [],
   "source": [
    "df_merge=df.loc[:,['route_type', 'trip_uuid',\n",
    "       'start_scan_to_end_scan',  'trip_creation_month',\n",
    "       'trip_creation_year', 'trip_creation_day', 'Timediff_start_end_H', 'agg_segment_actual_time1',\n",
    "       'agg_segment_osrm_time1', 'agg_segment_osrm_distance1',\n",
    "       'agg_distance_to_destination', 'agg_actual_time', 'agg_osrm_time',\n",
    "       'agg_osrm_distance', 'Source_City', 'Source_Place', 'Source_Code/State',\n",
    "       'destination_City', 'destination_Place', 'destination_Code/State']]"
   ]
  },
  {
   "cell_type": "code",
   "execution_count": 107,
   "id": "f1053a2f",
   "metadata": {},
   "outputs": [
    {
     "data": {
      "text/plain": [
       "118498"
      ]
     },
     "execution_count": 107,
     "metadata": {},
     "output_type": "execute_result"
    }
   ],
   "source": [
    "df_merge.duplicated().sum()"
   ]
  },
  {
   "cell_type": "code",
   "execution_count": 108,
   "id": "110d7b30",
   "metadata": {},
   "outputs": [],
   "source": [
    "df_merge.drop_duplicates(inplace=True)"
   ]
  },
  {
   "cell_type": "code",
   "execution_count": 109,
   "id": "8e86e3a6",
   "metadata": {},
   "outputs": [
    {
     "data": {
      "text/html": [
       "<div>\n",
       "<style scoped>\n",
       "    .dataframe tbody tr th:only-of-type {\n",
       "        vertical-align: middle;\n",
       "    }\n",
       "\n",
       "    .dataframe tbody tr th {\n",
       "        vertical-align: top;\n",
       "    }\n",
       "\n",
       "    .dataframe thead th {\n",
       "        text-align: right;\n",
       "    }\n",
       "</style>\n",
       "<table border=\"1\" class=\"dataframe\">\n",
       "  <thead>\n",
       "    <tr style=\"text-align: right;\">\n",
       "      <th></th>\n",
       "      <th>route_type</th>\n",
       "      <th>trip_uuid</th>\n",
       "      <th>start_scan_to_end_scan</th>\n",
       "      <th>trip_creation_month</th>\n",
       "      <th>trip_creation_year</th>\n",
       "      <th>trip_creation_day</th>\n",
       "      <th>Timediff_start_end_H</th>\n",
       "      <th>agg_segment_actual_time1</th>\n",
       "      <th>agg_segment_osrm_time1</th>\n",
       "      <th>agg_segment_osrm_distance1</th>\n",
       "      <th>agg_distance_to_destination</th>\n",
       "      <th>agg_actual_time</th>\n",
       "      <th>agg_osrm_time</th>\n",
       "      <th>agg_osrm_distance</th>\n",
       "      <th>Source_City</th>\n",
       "      <th>Source_Place</th>\n",
       "      <th>Source_Code/State</th>\n",
       "      <th>destination_City</th>\n",
       "      <th>destination_Place</th>\n",
       "      <th>destination_Code/State</th>\n",
       "    </tr>\n",
       "  </thead>\n",
       "  <tbody>\n",
       "    <tr>\n",
       "      <th>124981</th>\n",
       "      <td>FTL</td>\n",
       "      <td>trip-153671041653548748</td>\n",
       "      <td>999</td>\n",
       "      <td>12</td>\n",
       "      <td>2018</td>\n",
       "      <td>9</td>\n",
       "      <td>999.0</td>\n",
       "      <td>820</td>\n",
       "      <td>474</td>\n",
       "      <td>649.8528</td>\n",
       "      <td>440.973689</td>\n",
       "      <td>830</td>\n",
       "      <td>394</td>\n",
       "      <td>544.8027</td>\n",
       "      <td>Bhopal</td>\n",
       "      <td>Trnsport</td>\n",
       "      <td>H (Madhya Pradesh)</td>\n",
       "      <td>Kanpur_Central</td>\n",
       "      <td>H</td>\n",
       "      <td>6 (Uttar Pradesh)</td>\n",
       "    </tr>\n",
       "    <tr>\n",
       "      <th>125002</th>\n",
       "      <td>FTL</td>\n",
       "      <td>trip-153671041653548748</td>\n",
       "      <td>1260</td>\n",
       "      <td>12</td>\n",
       "      <td>2018</td>\n",
       "      <td>9</td>\n",
       "      <td>-125459.0</td>\n",
       "      <td>728</td>\n",
       "      <td>534</td>\n",
       "      <td>670.6205</td>\n",
       "      <td>383.759164</td>\n",
       "      <td>732</td>\n",
       "      <td>349</td>\n",
       "      <td>446.5496</td>\n",
       "      <td>Kanpur_Central</td>\n",
       "      <td>H</td>\n",
       "      <td>6 (Uttar Pradesh)</td>\n",
       "      <td>Gurgaon</td>\n",
       "      <td>Bilaspur</td>\n",
       "      <td>HB (Haryana)</td>\n",
       "    </tr>\n",
       "  </tbody>\n",
       "</table>\n",
       "</div>"
      ],
      "text/plain": [
       "       route_type                trip_uuid  start_scan_to_end_scan  \\\n",
       "124981        FTL  trip-153671041653548748                     999   \n",
       "125002        FTL  trip-153671041653548748                    1260   \n",
       "\n",
       "        trip_creation_month  trip_creation_year  trip_creation_day  \\\n",
       "124981                   12                2018                  9   \n",
       "125002                   12                2018                  9   \n",
       "\n",
       "        Timediff_start_end_H  agg_segment_actual_time1  \\\n",
       "124981                 999.0                       820   \n",
       "125002             -125459.0                       728   \n",
       "\n",
       "        agg_segment_osrm_time1  agg_segment_osrm_distance1  \\\n",
       "124981                     474                    649.8528   \n",
       "125002                     534                    670.6205   \n",
       "\n",
       "        agg_distance_to_destination  agg_actual_time  agg_osrm_time  \\\n",
       "124981                   440.973689              830            394   \n",
       "125002                   383.759164              732            349   \n",
       "\n",
       "        agg_osrm_distance     Source_City Source_Place   Source_Code/State  \\\n",
       "124981           544.8027          Bhopal     Trnsport  H (Madhya Pradesh)   \n",
       "125002           446.5496  Kanpur_Central            H   6 (Uttar Pradesh)   \n",
       "\n",
       "       destination_City destination_Place destination_Code/State  \n",
       "124981   Kanpur_Central                 H      6 (Uttar Pradesh)  \n",
       "125002          Gurgaon          Bilaspur           HB (Haryana)  "
      ]
     },
     "execution_count": 109,
     "metadata": {},
     "output_type": "execute_result"
    }
   ],
   "source": [
    "df_merge[df_merge['trip_uuid']=='trip-153671041653548748'].head(2)"
   ]
  },
  {
   "cell_type": "code",
   "execution_count": 110,
   "id": "e7a275de",
   "metadata": {},
   "outputs": [
    {
     "data": {
      "text/plain": [
       "0"
      ]
     },
     "execution_count": 110,
     "metadata": {},
     "output_type": "execute_result"
    }
   ],
   "source": [
    "df_merge.duplicated().sum()"
   ]
  },
  {
   "cell_type": "code",
   "execution_count": 111,
   "id": "41f24fa4",
   "metadata": {},
   "outputs": [
    {
     "data": {
      "text/plain": [
       "(26369, 20)"
      ]
     },
     "execution_count": 111,
     "metadata": {},
     "output_type": "execute_result"
    }
   ],
   "source": [
    "df_merge.shape"
   ]
  },
  {
   "cell_type": "code",
   "execution_count": 112,
   "id": "e19475f6",
   "metadata": {},
   "outputs": [],
   "source": [
    "df_uuid=df_merge.copy()"
   ]
  },
  {
   "cell_type": "code",
   "execution_count": 113,
   "id": "f77170e5",
   "metadata": {},
   "outputs": [],
   "source": [
    "# aggregation of below mentioned based on their Trip_uuid, Source ID and Destination ID \n",
    "# as they are mentioned as a cumsum in data dictionary we will take max\n",
    "df_uuid['start_scan_to_end_scan11']=df_uuid.groupby(['trip_uuid'])['start_scan_to_end_scan'].transform('sum')\n",
    "df_uuid['Timediff_start_end_H11']=df_uuid.groupby(['trip_uuid'])['Timediff_start_end_H'].transform('sum')\n",
    "df_uuid['agg_segment_actual_time11']=df_uuid.groupby(['trip_uuid'])['agg_segment_actual_time1'].transform('sum')\n",
    "df_uuid['agg_segment_osrm_time11']=df_uuid.groupby(['trip_uuid'])['agg_segment_osrm_time1'].transform('sum')\n",
    "\n",
    "df_uuid['agg_segment_osrm_distance11']=df_uuid.groupby(['trip_uuid'])['agg_segment_osrm_distance1'].transform('sum')\n",
    "df_uuid['agg_distance_to_destination11']=df_uuid.groupby(['trip_uuid'])['agg_distance_to_destination'].transform('sum')\n",
    "df_uuid['agg_actual_time11']=df_uuid.groupby(['trip_uuid'])['agg_actual_time'].transform('sum')\n",
    "df_uuid['agg_osrm_time11']=df_uuid.groupby(['trip_uuid'])['agg_osrm_time'].transform('sum')\n",
    "df_uuid['agg_osrm_distance11']=df_uuid.groupby(['trip_uuid'])['agg_osrm_distance'].transform('sum')\n",
    "\n",
    "df_uuid['Source_City11']=df_uuid.groupby(['trip_uuid'])['Source_City'].transform('first')\n",
    "df_uuid['Source_Place11']=df_uuid.groupby(['trip_uuid'])['Source_Place'].transform('first')\n",
    "df_uuid['Source_Code/State11']=df_uuid.groupby(['trip_uuid'])['Source_Code/State'].transform('first')\n",
    "df_uuid['destination_City11']=df_uuid.groupby(['trip_uuid'])['destination_City'].transform('last')\n",
    "df_uuid['destination_Place11']=df_uuid.groupby(['trip_uuid'])['destination_Place'].transform('last')\n",
    "df_uuid['destination_Code/State11']=df_uuid.groupby(['trip_uuid'])['destination_Code/State'].transform('last')"
   ]
  },
  {
   "cell_type": "code",
   "execution_count": 114,
   "id": "790f48a8",
   "metadata": {},
   "outputs": [],
   "source": [
    "dfm=df_uuid.loc[:,['route_type', 'trip_uuid',\n",
    "        'trip_creation_month', 'trip_creation_year', 'trip_creation_day',\n",
    "       'start_scan_to_end_scan11', 'Timediff_start_end_H11',\n",
    "       'agg_segment_actual_time11', 'agg_segment_osrm_time11',\n",
    "       'agg_segment_osrm_distance11', 'agg_distance_to_destination11',\n",
    "       'agg_actual_time11', 'agg_osrm_time11', 'agg_osrm_distance11',\n",
    "       'Source_City11', 'Source_Place11', 'Source_Code/State11',\n",
    "       'destination_City11', 'destination_Place11',\n",
    "       'destination_Code/State11']]"
   ]
  },
  {
   "cell_type": "code",
   "execution_count": 115,
   "id": "ef7d444f",
   "metadata": {},
   "outputs": [
    {
     "data": {
      "text/plain": [
       "11552"
      ]
     },
     "execution_count": 115,
     "metadata": {},
     "output_type": "execute_result"
    }
   ],
   "source": [
    "dfm.duplicated().sum()"
   ]
  },
  {
   "cell_type": "code",
   "execution_count": 116,
   "id": "f6cf7552",
   "metadata": {},
   "outputs": [],
   "source": [
    "dfm.drop_duplicates(inplace=True)"
   ]
  },
  {
   "cell_type": "code",
   "execution_count": 117,
   "id": "455dc1cf",
   "metadata": {},
   "outputs": [
    {
     "data": {
      "text/plain": [
       "0"
      ]
     },
     "execution_count": 117,
     "metadata": {},
     "output_type": "execute_result"
    }
   ],
   "source": [
    "dfm.duplicated().sum()"
   ]
  },
  {
   "cell_type": "code",
   "execution_count": 118,
   "id": "a1b10eb5",
   "metadata": {},
   "outputs": [
    {
     "data": {
      "text/plain": [
       "(14817, 20)"
      ]
     },
     "execution_count": 118,
     "metadata": {},
     "output_type": "execute_result"
    }
   ],
   "source": [
    "dfm.shape"
   ]
  },
  {
   "cell_type": "markdown",
   "id": "bbad98dd",
   "metadata": {},
   "source": [
    "### So after the entire merging the final dataset that has induced features and distict rows :"
   ]
  },
  {
   "cell_type": "markdown",
   "id": "3ff45152",
   "metadata": {},
   "source": [
    "### 14817:  Rows   "
   ]
  },
  {
   "cell_type": "markdown",
   "id": "e2b86f4f",
   "metadata": {},
   "source": [
    "### 20:     Columns"
   ]
  },
  {
   "cell_type": "markdown",
   "id": "5929707a",
   "metadata": {},
   "source": [
    "### Comparing the difference between time taken between Timediff_start_end_H11 and start_scan_to_end_scan."
   ]
  },
  {
   "cell_type": "code",
   "execution_count": 119,
   "id": "1dc0604f",
   "metadata": {},
   "outputs": [],
   "source": [
    "dfm['scan_diff_check']=dfm['Timediff_start_end_H11']-dfm['start_scan_to_end_scan11']"
   ]
  },
  {
   "cell_type": "markdown",
   "id": "c4871e08",
   "metadata": {},
   "source": [
    "### Visualization of Difference between the two start_scan_to_end_scan & Timediff_start_end_H:\n"
   ]
  },
  {
   "cell_type": "code",
   "execution_count": 120,
   "id": "56256b6a",
   "metadata": {},
   "outputs": [
    {
     "data": {
      "image/png": "[encoded data removed]",
      "text/plain": [
       "<Figure size 1152x360 with 2 Axes>"
      ]
     },
     "metadata": {
      "needs_background": "light"
     },
     "output_type": "display_data"
    }
   ],
   "source": [
    "plt.figure(figsize=(16,5))\n",
    "plt.subplot(121)\n",
    "plt.hist(dfm['Timediff_start_end_H11'],bins=100,label='Timediff_start_end_H')\n",
    "plt.hist(dfm['start_scan_to_end_scan11'],bins=100,label='start_scan_to_end_scan')\n",
    "plt.legend()\n",
    "plt.grid()\n",
    "plt.subplot(122)\n",
    "sns.kdeplot(dfm['Timediff_start_end_H11'],label='Timediff_start_end_H')\n",
    "sns.kdeplot(dfm['start_scan_to_end_scan11'],label='start_scan_to_end_scan')\n",
    "plt.legend()\n",
    "plt.grid()\n",
    "plt.show()"
   ]
  },
  {
   "cell_type": "markdown",
   "id": "7c121b03",
   "metadata": {},
   "source": [
    "### As both the curv is overlapping which means both are same"
   ]
  },
  {
   "cell_type": "markdown",
   "id": "f07fc31a",
   "metadata": {},
   "source": [
    "### Hypothesis Testing"
   ]
  },
  {
   "cell_type": "markdown",
   "id": "3f163443",
   "metadata": {},
   "source": [
    "### 𝐻0 : the mean for Timediff_start_end_H & start_scan_to_end_scan are same"
   ]
  },
  {
   "cell_type": "markdown",
   "id": "8ec0875b",
   "metadata": {},
   "source": [
    "### 𝐻𝑎 : the mean for start_scan_to_end_scan is more than Timediff_start_end_H"
   ]
  },
  {
   "cell_type": "markdown",
   "id": "43d379ea",
   "metadata": {},
   "source": [
    "### Alpha = 0.05"
   ]
  },
  {
   "cell_type": "code",
   "execution_count": 150,
   "id": "7ff04c95",
   "metadata": {},
   "outputs": [],
   "source": [
    "from scipy.stats import ttest_ind\n",
    "test_stat, p_value = ttest_ind(dfm['Timediff_start_end_H11'],dfm['start_scan_to_end_scan11'])"
   ]
  },
  {
   "cell_type": "code",
   "execution_count": 151,
   "id": "0bf7126c",
   "metadata": {},
   "outputs": [
    {
     "data": {
      "text/plain": [
       "-13.620028341627336"
      ]
     },
     "execution_count": 151,
     "metadata": {},
     "output_type": "execute_result"
    }
   ],
   "source": [
    "test_stat"
   ]
  },
  {
   "cell_type": "code",
   "execution_count": 152,
   "id": "a36f239d",
   "metadata": {},
   "outputs": [
    {
     "data": {
      "text/plain": [
       "4.0778544282610784e-42"
      ]
     },
     "execution_count": 152,
     "metadata": {},
     "output_type": "execute_result"
    }
   ],
   "source": [
    "p_value"
   ]
  },
  {
   "cell_type": "code",
   "execution_count": 103,
   "id": "96927dd1",
   "metadata": {},
   "outputs": [
    {
     "name": "stdout",
     "output_type": "stream",
     "text": [
      "P-value : 2.0389272141305392e-42\n"
     ]
    }
   ],
   "source": [
    "import scipy.stats as stats\n",
    "st,p = stats.ttest_ind(dfm['Timediff_start_end_H11'],dfm['start_scan_to_end_scan11'])\n",
    "print('P-value :',(p/2))"
   ]
  },
  {
   "cell_type": "markdown",
   "id": "4ad47909",
   "metadata": {},
   "source": [
    "### Comparision Between Aggregate Actual time & Aggregate OSRM Time"
   ]
  },
  {
   "cell_type": "code",
   "execution_count": 153,
   "id": "160c98a5",
   "metadata": {},
   "outputs": [
    {
     "data": {
      "image/png": "[encoded data removed]",
      "text/plain": [
       "<Figure size 1152x360 with 2 Axes>"
      ]
     },
     "metadata": {
      "needs_background": "light"
     },
     "output_type": "display_data"
    }
   ],
   "source": [
    "plt.figure(figsize=(16,5))\n",
    "plt.subplot(121)\n",
    "plt.hist(dfm['agg_actual_time11'],bins=10,label='agg_actual_time')\n",
    "plt.hist(dfm['agg_osrm_time11'],bins=10,label='agg_osrm_time')\n",
    "plt.legend()\n",
    "plt.grid()\n",
    "plt.subplot(122)\n",
    "sns.kdeplot(dfm['agg_actual_time11'],label='agg_actual_time')\n",
    "sns.kdeplot(dfm['agg_osrm_time11'],label='agg_osrm_time')\n",
    "plt.legend()\n",
    "plt.grid()\n",
    "plt.show()"
   ]
  },
  {
   "cell_type": "markdown",
   "id": "f7c19167",
   "metadata": {},
   "source": [
    "### agg_actual time is greater than aggr osrm time"
   ]
  },
  {
   "cell_type": "markdown",
   "id": "d5e384ab",
   "metadata": {},
   "source": [
    "### Comparision Between Aggregate OSRM distance & Aggregate Segment osrm distance"
   ]
  },
  {
   "cell_type": "code",
   "execution_count": 158,
   "id": "aed08c2e",
   "metadata": {},
   "outputs": [
    {
     "data": {
      "image/png": "[encoded data removed]",
      "text/plain": [
       "<Figure size 1152x360 with 2 Axes>"
      ]
     },
     "metadata": {
      "needs_background": "light"
     },
     "output_type": "display_data"
    }
   ],
   "source": [
    "plt.figure(figsize=(16,5))\n",
    "plt.subplot(121)\n",
    "plt.hist(dfm['agg_osrm_distance11'],bins=10,label='agg_osrm_distance')\n",
    "plt.hist(dfm['agg_segment_osrm_distance11'],bins=10,label='agg_segment_osrm_distance')\n",
    "plt.legend()\n",
    "plt.subplot(122)\n",
    "sns.kdeplot(dfm['agg_osrm_distance11'],label='agg_osrm_distance')\n",
    "sns.kdeplot(dfm['agg_segment_osrm_distance11'],label='agg_segment_osrm_distance')\n",
    "plt.legend()\n",
    "plt.grid()\n",
    "plt.grid()\n",
    "plt.show()"
   ]
  },
  {
   "cell_type": "markdown",
   "id": "728507f7",
   "metadata": {},
   "source": [
    "### . As both the curv are overlapping which means both agg_segement_osrm_distance and agg_osrm_distance are same"
   ]
  },
  {
   "cell_type": "code",
   "execution_count": null,
   "id": "161ffab5",
   "metadata": {},
   "outputs": [],
   "source": []
  },
  {
   "cell_type": "markdown",
   "id": "1904d57f",
   "metadata": {},
   "source": [
    "### Hpothesis testing of mean difference of agg_actual_time and agg_osrm_time"
   ]
  },
  {
   "cell_type": "markdown",
   "id": "4c7a22fd",
   "metadata": {},
   "source": [
    "### Ho: the mean for agg_actual_time & agg_osrm_time are same"
   ]
  },
  {
   "cell_type": "markdown",
   "id": "e121b7ad",
   "metadata": {},
   "source": [
    "### Ha: the mean for agg_actual_time is more than agg_osrm_time"
   ]
  },
  {
   "cell_type": "code",
   "execution_count": 165,
   "id": "02e78afb",
   "metadata": {},
   "outputs": [
    {
     "name": "stdout",
     "output_type": "stream",
     "text": [
      "1.845661092540984e-309\n"
     ]
    }
   ],
   "source": [
    "from scipy.stats import ttest_ind\n",
    "test_stat, p_value = ttest_ind(dfm[\"agg_actual_time11\"], dfm[\"agg_osrm_time11\"])\n",
    "print(p_value)"
   ]
  },
  {
   "cell_type": "code",
   "execution_count": 162,
   "id": "fdfb3d86",
   "metadata": {},
   "outputs": [
    {
     "name": "stdout",
     "output_type": "stream",
     "text": [
      "Reject H0\n"
     ]
    }
   ],
   "source": [
    "p_value\n",
    "if p_value < 0.05:\n",
    "    print(\"Reject H0\")\n",
    "else:\n",
    "    print(\"Fail to reject Ho\")"
   ]
  },
  {
   "cell_type": "markdown",
   "id": "1bb23eeb",
   "metadata": {},
   "source": [
    "### As p_value is less than Alpha = 0.05 so we reject the null hypothesis which means there is the difference between agg_actual_time and agg_osrm_time"
   ]
  },
  {
   "cell_type": "code",
   "execution_count": null,
   "id": "4a4f76a2",
   "metadata": {},
   "outputs": [],
   "source": []
  },
  {
   "cell_type": "markdown",
   "id": "c762467c",
   "metadata": {},
   "source": [
    "### Hpothesis testing of mean difference of agg_osrm_distance and agg_segment_osrm_distance"
   ]
  },
  {
   "cell_type": "markdown",
   "id": "0728d775",
   "metadata": {},
   "source": [
    "### H0: the mean for Agg_osrm_distance & agg_segment_osrm_distance are same    "
   ]
  },
  {
   "cell_type": "markdown",
   "id": "6ae83a12",
   "metadata": {},
   "source": [
    "### Ha: the mean for Agg_osrm_distance & agg_segment_osrm_distance are different"
   ]
  },
  {
   "cell_type": "code",
   "execution_count": 163,
   "id": "153f7e7c",
   "metadata": {},
   "outputs": [],
   "source": [
    "test_stat,p_value = ttest_ind(dfm[\"agg_osrm_distance11\"],dfm[\"agg_segment_osrm_distance11\"])"
   ]
  },
  {
   "cell_type": "code",
   "execution_count": 164,
   "id": "425d17eb",
   "metadata": {},
   "outputs": [
    {
     "name": "stdout",
     "output_type": "stream",
     "text": [
      "-3.9508887316361827\n",
      "7.804180497188243e-05\n",
      "reject H0\n"
     ]
    }
   ],
   "source": [
    "print(test_stat)\n",
    "print(p_value)\n",
    "if p_value < 0.05:\n",
    "    print(\"reject H0\")\n",
    "else:\n",
    "    print(\"Fail to reject H0\")"
   ]
  },
  {
   "cell_type": "markdown",
   "id": "d80f9b34",
   "metadata": {},
   "source": [
    "### As p_value is less than Alpha = 0.05 so we reject the null hypothesis which means there is the difference between agg_osrm_distance and agg_segement_osrm_distance"
   ]
  },
  {
   "cell_type": "markdown",
   "id": "f7c6bd2d",
   "metadata": {},
   "source": [
    "### Comparision Between Aggregate Actual time & Aggregate segment_actual_time"
   ]
  },
  {
   "cell_type": "code",
   "execution_count": 167,
   "id": "803dd922",
   "metadata": {},
   "outputs": [
    {
     "data": {
      "image/png": "[encoded data removed]",
      "text/plain": [
       "<Figure size 1152x360 with 2 Axes>"
      ]
     },
     "metadata": {
      "needs_background": "light"
     },
     "output_type": "display_data"
    }
   ],
   "source": [
    "plt.figure(figsize=(16,5))\n",
    "plt.subplot(121)\n",
    "sns.kdeplot(dfm['agg_actual_time11'],label='agg_actual_time')\n",
    "sns.kdeplot(dfm['agg_segment_actual_time11'],label='agg_segment_act_time')\n",
    "plt.legend()\n",
    "plt.grid()\n",
    "plt.subplot(122)\n",
    "plt.hist(dfm['agg_actual_time11'],bins=10,label='agg_actual_time')\n",
    "plt.hist(dfm['agg_segment_actual_time11'],bins=10,label='agg_segment_actual_time')\n",
    "plt.legend()\n",
    "plt.grid()\n",
    "plt.show()"
   ]
  },
  {
   "cell_type": "markdown",
   "id": "04f501d4",
   "metadata": {},
   "source": [
    "### As both the curve overlaps each others which means both variable i.e agg_actaul_time and agg_segement_act_time are same"
   ]
  },
  {
   "cell_type": "code",
   "execution_count": null,
   "id": "e1823635",
   "metadata": {},
   "outputs": [],
   "source": []
  },
  {
   "cell_type": "markdown",
   "id": "7b473828",
   "metadata": {},
   "source": [
    "### Comparision Between Aggregate OSRM time & Aggregate Segment OSRM Time"
   ]
  },
  {
   "cell_type": "code",
   "execution_count": 166,
   "id": "8bdb5268",
   "metadata": {},
   "outputs": [
    {
     "data": {
      "image/png": "[encoded data removed]",
      "text/plain": [
       "<Figure size 1152x360 with 2 Axes>"
      ]
     },
     "metadata": {
      "needs_background": "light"
     },
     "output_type": "display_data"
    }
   ],
   "source": [
    "plt.figure(figsize=(16,5))\n",
    "plt.subplot(121)\n",
    "sns.kdeplot(dfm['agg_osrm_time11'],label='agg_osrm_time')\n",
    "sns.kdeplot(dfm['agg_segment_osrm_time11'],label='agg_segment_osrm_time')\n",
    "plt.legend()\n",
    "plt.grid()\n",
    "plt.subplot(122)\n",
    "plt.hist(dfm['agg_osrm_time11'],bins=10,label='agg_osrm_time')\n",
    "plt.hist(dfm['agg_segment_osrm_time11'],bins=10,label='agg_segment_osrm_time')\n",
    "plt.legend()\n",
    "plt.grid()\n",
    "plt.show()"
   ]
  },
  {
   "cell_type": "markdown",
   "id": "cc0b515b",
   "metadata": {},
   "source": [
    "### As it is visible for graph that agg_actual_time is greater than agg_segement_osrm_time"
   ]
  },
  {
   "cell_type": "code",
   "execution_count": null,
   "id": "8ef4ee75",
   "metadata": {},
   "outputs": [],
   "source": []
  },
  {
   "cell_type": "markdown",
   "id": "944cb7bb",
   "metadata": {},
   "source": [
    "### Hypothesis testing of Agg_actual_time and agg_segement_actual_time"
   ]
  },
  {
   "cell_type": "markdown",
   "id": "852a83f9",
   "metadata": {},
   "source": [
    "### H0: the Mean of agg_actual_time and agg_segement_actual_time are same"
   ]
  },
  {
   "cell_type": "markdown",
   "id": "3894b806",
   "metadata": {},
   "source": [
    "### Ha: the Mean of agg_actual_time and agg_segement_actual_time are different"
   ]
  },
  {
   "cell_type": "code",
   "execution_count": 168,
   "id": "30f5a90a",
   "metadata": {},
   "outputs": [
    {
     "name": "stdout",
     "output_type": "stream",
     "text": [
      "0.6176477212251261\n"
     ]
    }
   ],
   "source": [
    "test_stat, p_value = ttest_ind(dfm[\"agg_actual_time11\"],dfm[\"agg_segment_actual_time11\"])\n",
    "print(p_value)"
   ]
  },
  {
   "cell_type": "code",
   "execution_count": 169,
   "id": "3c5826e2",
   "metadata": {},
   "outputs": [
    {
     "name": "stdout",
     "output_type": "stream",
     "text": [
      "fail to reject H0\n"
     ]
    }
   ],
   "source": [
    "if p_value < 0.05:\n",
    "    print(\"reject H0\")\n",
    "else:\n",
    "    print(\"fail to reject H0\")"
   ]
  },
  {
   "cell_type": "markdown",
   "id": "9b87d7d0",
   "metadata": {},
   "source": [
    "### As P_vale>alpha(0.05) so we fail to reject the null hypothesis which means there is diffrence between agg_actual_time and agg_segement actaul_time"
   ]
  },
  {
   "cell_type": "code",
   "execution_count": null,
   "id": "9890cb67",
   "metadata": {},
   "outputs": [],
   "source": []
  },
  {
   "cell_type": "markdown",
   "id": "cd27c81b",
   "metadata": {},
   "source": [
    "### Hypothesis testing of agg_osrm_time and agg_segement_osrm_time"
   ]
  },
  {
   "cell_type": "markdown",
   "id": "fa2406de",
   "metadata": {},
   "source": [
    "### H0: the mean of agg_osrm time and agg_segement_osrm_time are same"
   ]
  },
  {
   "cell_type": "markdown",
   "id": "a14b571a",
   "metadata": {},
   "source": [
    "### Ha: the mean of agg_osrm time and agg_segement_osrm_time are different"
   ]
  },
  {
   "cell_type": "code",
   "execution_count": 173,
   "id": "810e06ba",
   "metadata": {},
   "outputs": [
    {
     "name": "stdout",
     "output_type": "stream",
     "text": [
      "3.340481538123724e-08\n"
     ]
    }
   ],
   "source": [
    "test_stat, p_value = ttest_ind(dfm[\"agg_osrm_time11\"],dfm[\"agg_segment_osrm_time11\"])\n",
    "print(p_value)"
   ]
  },
  {
   "cell_type": "markdown",
   "id": "2481c497",
   "metadata": {},
   "source": [
    "### As P_vale<alpha(0.05) so we reject the null hypothesis which means there is no diffrence between agg_osrm_time and agg_segement osrm_time"
   ]
  },
  {
   "cell_type": "code",
   "execution_count": 41,
   "id": "166a8635",
   "metadata": {},
   "outputs": [],
   "source": []
  },
  {
   "cell_type": "markdown",
   "id": "527d1bb5",
   "metadata": {},
   "source": [
    "### Exploratory Data analysis"
   ]
  },
  {
   "cell_type": "markdown",
   "id": "a5cd2286",
   "metadata": {},
   "source": [
    "### Univariant Analysis"
   ]
  },
  {
   "cell_type": "code",
   "execution_count": 121,
   "id": "9e912895",
   "metadata": {},
   "outputs": [],
   "source": [
    "a=['start_scan_to_end_scan11',\n",
    "       'trip_creation_day', 'Timediff_start_end_H11', 'agg_segment_actual_time11',\n",
    "       'agg_segment_osrm_time11', 'agg_segment_osrm_distance11',\n",
    "       'agg_distance_to_destination11', 'agg_actual_time11', 'agg_osrm_time11',\n",
    "       'agg_osrm_distance11']"
   ]
  },
  {
   "cell_type": "code",
   "execution_count": 122,
   "id": "400cd0c2",
   "metadata": {},
   "outputs": [
    {
     "data": {
      "image/png": "[encoded data removed]",
      "text/plain": [
       "<Figure size 432x288 with 1 Axes>"
      ]
     },
     "metadata": {
      "needs_background": "light"
     },
     "output_type": "display_data"
    },
    {
     "data": {
      "image/png": "[encoded data removed]",
      "text/plain": [
       "<Figure size 432x288 with 1 Axes>"
      ]
     },
     "metadata": {
      "needs_background": "light"
     },
     "output_type": "display_data"
    },
    {
     "data": {
      "image/png": "[encoded data removed]",
      "text/plain": [
       "<Figure size 432x288 with 1 Axes>"
      ]
     },
     "metadata": {
      "needs_background": "light"
     },
     "output_type": "display_data"
    },
    {
     "data": {
      "image/png": "[encoded data removed]",
      "text/plain": [
       "<Figure size 432x288 with 1 Axes>"
      ]
     },
     "metadata": {
      "needs_background": "light"
     },
     "output_type": "display_data"
    },
    {
     "data": {
      "image/png": "[encoded data removed]",
      "text/plain": [
       "<Figure size 432x288 with 1 Axes>"
      ]
     },
     "metadata": {
      "needs_background": "light"
     },
     "output_type": "display_data"
    },
    {
     "data": {
      "image/png": "[encoded data removed]",
      "text/plain": [
       "<Figure size 432x288 with 1 Axes>"
      ]
     },
     "metadata": {
      "needs_background": "light"
     },
     "output_type": "display_data"
    },
    {
     "data": {
      "image/png": "[encoded data removed]",
      "text/plain": [
       "<Figure size 432x288 with 1 Axes>"
      ]
     },
     "metadata": {
      "needs_background": "light"
     },
     "output_type": "display_data"
    },
    {
     "data": {
      "image/png": "[encoded data removed]",
      "text/plain": [
       "<Figure size 432x288 with 1 Axes>"
      ]
     },
     "metadata": {
      "needs_background": "light"
     },
     "output_type": "display_data"
    },
    {
     "data": {
      "image/png": "[encoded data removed]",
      "text/plain": [
       "<Figure size 432x288 with 1 Axes>"
      ]
     },
     "metadata": {
      "needs_background": "light"
     },
     "output_type": "display_data"
    },
    {
     "data": {
      "image/png": "[encoded data removed]",
      "text/plain": [
       "<Figure size 432x288 with 1 Axes>"
      ]
     },
     "metadata": {
      "needs_background": "light"
     },
     "output_type": "display_data"
    }
   ],
   "source": [
    "for i in a:\n",
    "    sns.histplot(data = dfm, x = dfm[i],bins = 25,kde=True)\n",
    "    plt.show()"
   ]
  },
  {
   "cell_type": "markdown",
   "id": "7d3ae2ae",
   "metadata": {},
   "source": [
    "### This reveals that entire data is right skewed"
   ]
  },
  {
   "cell_type": "markdown",
   "id": "51ecc7d7",
   "metadata": {},
   "source": [
    "### Outlier Detection and their Treatment"
   ]
  },
  {
   "cell_type": "code",
   "execution_count": 123,
   "id": "c7d3a135",
   "metadata": {},
   "outputs": [],
   "source": [
    "num_cols = df.select_dtypes('float64').columns.values"
   ]
  },
  {
   "cell_type": "code",
   "execution_count": 124,
   "id": "4e050376",
   "metadata": {},
   "outputs": [
    {
     "data": {
      "text/plain": [
       "array(['actual_distance_to_destination', 'osrm_distance',\n",
       "       'segment_osrm_distance', 'Timediff_start_end_H',\n",
       "       'agg_segment_osrm_distance', 'agg_segment_osrm_distance1',\n",
       "       'agg_distance_to_destination', 'agg_osrm_distance'], dtype=object)"
      ]
     },
     "execution_count": 124,
     "metadata": {},
     "output_type": "execute_result"
    }
   ],
   "source": [
    "num_cols"
   ]
  },
  {
   "cell_type": "code",
   "execution_count": 127,
   "id": "4c0cc02c",
   "metadata": {},
   "outputs": [],
   "source": [
    "def unn(d):\n",
    "    f,ax = plt.subplots(nrows=1,ncols=2,figsize=(7,3))\n",
    "    sns.histplot(d, kde=True, ax=ax[0])\n",
    "    \n",
    "    sns.boxplot(x=d, showmeans=True, ax=ax[1])\n",
    "    plt.tight_layout"
   ]
  },
  {
   "cell_type": "code",
   "execution_count": 128,
   "id": "a2df606b",
   "metadata": {},
   "outputs": [
    {
     "data": {
      "image/png": "[encoded data removed]",
      "text/plain": [
       "<Figure size 504x216 with 2 Axes>"
      ]
     },
     "metadata": {
      "needs_background": "light"
     },
     "output_type": "display_data"
    },
    {
     "data": {
      "image/png": "[encoded data removed]",
      "text/plain": [
       "<Figure size 504x216 with 2 Axes>"
      ]
     },
     "metadata": {
      "needs_background": "light"
     },
     "output_type": "display_data"
    },
    {
     "data": {
      "image/png": "[encoded data removed]",
      "text/plain": [
       "<Figure size 504x216 with 2 Axes>"
      ]
     },
     "metadata": {
      "needs_background": "light"
     },
     "output_type": "display_data"
    },
    {
     "data": {
      "image/png": "[encoded data removed]",
      "text/plain": [
       "<Figure size 504x216 with 2 Axes>"
      ]
     },
     "metadata": {
      "needs_background": "light"
     },
     "output_type": "display_data"
    },
    {
     "data": {
      "image/png": "[encoded data removed]",
      "text/plain": [
       "<Figure size 504x216 with 2 Axes>"
      ]
     },
     "metadata": {
      "needs_background": "light"
     },
     "output_type": "display_data"
    },
    {
     "data": {
      "image/png": "[encoded data removed]",
      "text/plain": [
       "<Figure size 504x216 with 2 Axes>"
      ]
     },
     "metadata": {
      "needs_background": "light"
     },
     "output_type": "display_data"
    },
    {
     "data": {
      "image/png": "[encoded data removed]",
      "text/plain": [
       "<Figure size 504x216 with 2 Axes>"
      ]
     },
     "metadata": {
      "needs_background": "light"
     },
     "output_type": "display_data"
    },
    {
     "data": {
      "image/png": "[encoded data removed]",
      "text/plain": [
       "<Figure size 504x216 with 2 Axes>"
      ]
     },
     "metadata": {
      "needs_background": "light"
     },
     "output_type": "display_data"
    }
   ],
   "source": [
    "for f in num_cols:\n",
    "    unn(df[f])\n",
    "plt.show()"
   ]
  },
  {
   "cell_type": "markdown",
   "id": "debecccd",
   "metadata": {},
   "source": [
    "### As we can see there are outlier in all the numeric features"
   ]
  },
  {
   "cell_type": "code",
   "execution_count": 134,
   "id": "0839a8f3",
   "metadata": {},
   "outputs": [],
   "source": [
    "#treating outliers:\n",
    "def treat_outlier(variable):\n",
    "    #Takes two parameters: dataframe & variable of interest as string\n",
    "    q1,q3=np.percentile(variable,[25,75])\n",
    "    iqr = q3-q1\n",
    "    lower_range = q1-(1.5*iqr)\n",
    "    upper_range = q3+(1.5*iqr)\n",
    "    return lower_range,upper_range"
   ]
  },
  {
   "cell_type": "code",
   "execution_count": 135,
   "id": "f7649a32",
   "metadata": {},
   "outputs": [],
   "source": [
    "for col in num_cols:\n",
    "    ir,ur=treat_outlier(df[col])\n",
    "    df[col]=np.where(df[col]>ur,ur,df[col])\n",
    "    df[col]=np.where(df[col]<ir,ir,df[col])"
   ]
  },
  {
   "cell_type": "code",
   "execution_count": 136,
   "id": "66f6e158",
   "metadata": {},
   "outputs": [
    {
     "data": {
      "image/png": "[encoded data removed]",
      "text/plain": [
       "<Figure size 504x216 with 2 Axes>"
      ]
     },
     "metadata": {
      "needs_background": "light"
     },
     "output_type": "display_data"
    },
    {
     "data": {
      "image/png": "[encoded data removed]",
      "text/plain": [
       "<Figure size 504x216 with 2 Axes>"
      ]
     },
     "metadata": {
      "needs_background": "light"
     },
     "output_type": "display_data"
    },
    {
     "data": {
      "image/png": "[encoded data removed]",
      "text/plain": [
       "<Figure size 504x216 with 2 Axes>"
      ]
     },
     "metadata": {
      "needs_background": "light"
     },
     "output_type": "display_data"
    },
    {
     "data": {
      "image/png": "[encoded data removed]",
      "text/plain": [
       "<Figure size 504x216 with 2 Axes>"
      ]
     },
     "metadata": {
      "needs_background": "light"
     },
     "output_type": "display_data"
    },
    {
     "data": {
      "image/png": "[encoded data removed]",
      "text/plain": [
       "<Figure size 504x216 with 2 Axes>"
      ]
     },
     "metadata": {
      "needs_background": "light"
     },
     "output_type": "display_data"
    },
    {
     "data": {
      "image/png": "[encoded data removed]",
      "text/plain": [
       "<Figure size 504x216 with 2 Axes>"
      ]
     },
     "metadata": {
      "needs_background": "light"
     },
     "output_type": "display_data"
    },
    {
     "data": {
      "image/png": "[encoded data removed]",
      "text/plain": [
       "<Figure size 504x216 with 2 Axes>"
      ]
     },
     "metadata": {
      "needs_background": "light"
     },
     "output_type": "display_data"
    },
    {
     "data": {
      "image/png": "[encoded data removed]",
      "text/plain": [
       "<Figure size 504x216 with 2 Axes>"
      ]
     },
     "metadata": {
      "needs_background": "light"
     },
     "output_type": "display_data"
    }
   ],
   "source": [
    "#Lets check where outliers are removed or not:\n",
    "for f in num_cols:\n",
    "    unn(df[f])\n",
    "plt.show()"
   ]
  },
  {
   "cell_type": "markdown",
   "id": "9a3a1a93",
   "metadata": {},
   "source": [
    "### As we see outlier are removed"
   ]
  },
  {
   "cell_type": "markdown",
   "id": "5cb459f9",
   "metadata": {},
   "source": []
  },
  {
   "cell_type": "code",
   "execution_count": 138,
   "id": "338f62b9",
   "metadata": {},
   "outputs": [
    {
     "data": {
      "image/png": "[encoded data removed]",
      "text/plain": [
       "<Figure size 504x216 with 1 Axes>"
      ]
     },
     "metadata": {},
     "output_type": "display_data"
    }
   ],
   "source": [
    "fig1, ax1 = plt.subplots(figsize=(7,3))\n",
    "ax1.pie(dfm['route_type'].value_counts(), labels=df['route_type'].unique(), autopct='%1.1f%%')\n",
    "plt.legend()\n",
    "plt.show()"
   ]
  },
  {
   "cell_type": "markdown",
   "id": "d3859353",
   "metadata": {},
   "source": [
    "### 60% data is from Carting rout_type & the remaining 40% is from FTL"
   ]
  },
  {
   "cell_type": "code",
   "execution_count": 139,
   "id": "481ed9af",
   "metadata": {},
   "outputs": [
    {
     "data": {
      "image/png": "[encoded data removed]",
      "text/plain": [
       "<Figure size 432x288 with 1 Axes>"
      ]
     },
     "metadata": {
      "needs_background": "light"
     },
     "output_type": "display_data"
    }
   ],
   "source": [
    "sns.countplot(y=dfm[\"trip_creation_day\"])\n",
    "plt.xticks(rotation=90)\n",
    "plt.show()"
   ]
  },
  {
   "cell_type": "code",
   "execution_count": 141,
   "id": "f379b30d",
   "metadata": {},
   "outputs": [
    {
     "data": {
      "text/html": [
       "<div>\n",
       "<style scoped>\n",
       "    .dataframe tbody tr th:only-of-type {\n",
       "        vertical-align: middle;\n",
       "    }\n",
       "\n",
       "    .dataframe tbody tr th {\n",
       "        vertical-align: top;\n",
       "    }\n",
       "\n",
       "    .dataframe thead th {\n",
       "        text-align: right;\n",
       "    }\n",
       "</style>\n",
       "<table border=\"1\" class=\"dataframe\">\n",
       "  <thead>\n",
       "    <tr style=\"text-align: right;\">\n",
       "      <th></th>\n",
       "      <th>route_type</th>\n",
       "      <th>trip_uuid</th>\n",
       "      <th>trip_creation_month</th>\n",
       "      <th>trip_creation_year</th>\n",
       "      <th>trip_creation_day</th>\n",
       "      <th>start_scan_to_end_scan11</th>\n",
       "      <th>Timediff_start_end_H11</th>\n",
       "      <th>agg_segment_actual_time11</th>\n",
       "      <th>agg_segment_osrm_time11</th>\n",
       "      <th>agg_segment_osrm_distance11</th>\n",
       "      <th>...</th>\n",
       "      <th>agg_actual_time11</th>\n",
       "      <th>agg_osrm_time11</th>\n",
       "      <th>agg_osrm_distance11</th>\n",
       "      <th>Source_City11</th>\n",
       "      <th>Source_Place11</th>\n",
       "      <th>Source_Code/State11</th>\n",
       "      <th>destination_City11</th>\n",
       "      <th>destination_Place11</th>\n",
       "      <th>destination_Code/State11</th>\n",
       "      <th>scan_diff_check</th>\n",
       "    </tr>\n",
       "  </thead>\n",
       "  <tbody>\n",
       "    <tr>\n",
       "      <th>0</th>\n",
       "      <td>Carting</td>\n",
       "      <td>trip-153741093647649320</td>\n",
       "      <td>9</td>\n",
       "      <td>2018</td>\n",
       "      <td>20</td>\n",
       "      <td>195</td>\n",
       "      <td>195.0</td>\n",
       "      <td>167</td>\n",
       "      <td>88</td>\n",
       "      <td>102.7106</td>\n",
       "      <td>...</td>\n",
       "      <td>170</td>\n",
       "      <td>89</td>\n",
       "      <td>107.4515</td>\n",
       "      <td>Anand</td>\n",
       "      <td>VUNagar</td>\n",
       "      <td>DC (Gujarat)</td>\n",
       "      <td>Anand</td>\n",
       "      <td>Vaghasi</td>\n",
       "      <td>IP (Gujarat)</td>\n",
       "      <td>0.0</td>\n",
       "    </tr>\n",
       "    <tr>\n",
       "      <th>10</th>\n",
       "      <td>FTL</td>\n",
       "      <td>trip-153768492602129387</td>\n",
       "      <td>9</td>\n",
       "      <td>2018</td>\n",
       "      <td>23</td>\n",
       "      <td>302</td>\n",
       "      <td>302.0</td>\n",
       "      <td>180</td>\n",
       "      <td>106</td>\n",
       "      <td>130.4089</td>\n",
       "      <td>...</td>\n",
       "      <td>183</td>\n",
       "      <td>95</td>\n",
       "      <td>129.3519</td>\n",
       "      <td>Bhiwandi</td>\n",
       "      <td>Mankoli</td>\n",
       "      <td>HB (Maharashtra)</td>\n",
       "      <td>Pune</td>\n",
       "      <td>Tathawde</td>\n",
       "      <td>H (Maharashtra)</td>\n",
       "      <td>0.0</td>\n",
       "    </tr>\n",
       "    <tr>\n",
       "      <th>15</th>\n",
       "      <td>Carting</td>\n",
       "      <td>trip-153693976643699843</td>\n",
       "      <td>9</td>\n",
       "      <td>2018</td>\n",
       "      <td>14</td>\n",
       "      <td>108</td>\n",
       "      <td>109.0</td>\n",
       "      <td>60</td>\n",
       "      <td>16</td>\n",
       "      <td>18.7941</td>\n",
       "      <td>...</td>\n",
       "      <td>60</td>\n",
       "      <td>16</td>\n",
       "      <td>18.7941</td>\n",
       "      <td>LowerParel</td>\n",
       "      <td>CP (Maharashtra)</td>\n",
       "      <td>None</td>\n",
       "      <td>Mumbai</td>\n",
       "      <td>Chndivli</td>\n",
       "      <td>PC (Maharashtra)</td>\n",
       "      <td>1.0</td>\n",
       "    </tr>\n",
       "    <tr>\n",
       "      <th>17</th>\n",
       "      <td>FTL</td>\n",
       "      <td>trip-153687145942424248</td>\n",
       "      <td>9</td>\n",
       "      <td>2018</td>\n",
       "      <td>13</td>\n",
       "      <td>1031</td>\n",
       "      <td>1031.0</td>\n",
       "      <td>799</td>\n",
       "      <td>502</td>\n",
       "      <td>560.5092</td>\n",
       "      <td>...</td>\n",
       "      <td>805</td>\n",
       "      <td>486</td>\n",
       "      <td>524.7155</td>\n",
       "      <td>Bangalore</td>\n",
       "      <td>Nelmngla</td>\n",
       "      <td>H (Karnataka)</td>\n",
       "      <td>Aluva</td>\n",
       "      <td>Peedika</td>\n",
       "      <td>H (Kerala)</td>\n",
       "      <td>0.0</td>\n",
       "    </tr>\n",
       "    <tr>\n",
       "      <th>35</th>\n",
       "      <td>FTL</td>\n",
       "      <td>trip-153825970514894360</td>\n",
       "      <td>9</td>\n",
       "      <td>2018</td>\n",
       "      <td>29</td>\n",
       "      <td>261</td>\n",
       "      <td>262.0</td>\n",
       "      <td>151</td>\n",
       "      <td>137</td>\n",
       "      <td>115.7501</td>\n",
       "      <td>...</td>\n",
       "      <td>152</td>\n",
       "      <td>123</td>\n",
       "      <td>123.7654</td>\n",
       "      <td>Ludhiana</td>\n",
       "      <td>GillChwk</td>\n",
       "      <td>DC (Punjab)</td>\n",
       "      <td>Ludhiana</td>\n",
       "      <td>MilrGanj</td>\n",
       "      <td>HB (Punjab)</td>\n",
       "      <td>1.0</td>\n",
       "    </tr>\n",
       "    <tr>\n",
       "      <th>...</th>\n",
       "      <td>...</td>\n",
       "      <td>...</td>\n",
       "      <td>...</td>\n",
       "      <td>...</td>\n",
       "      <td>...</td>\n",
       "      <td>...</td>\n",
       "      <td>...</td>\n",
       "      <td>...</td>\n",
       "      <td>...</td>\n",
       "      <td>...</td>\n",
       "      <td>...</td>\n",
       "      <td>...</td>\n",
       "      <td>...</td>\n",
       "      <td>...</td>\n",
       "      <td>...</td>\n",
       "      <td>...</td>\n",
       "      <td>...</td>\n",
       "      <td>...</td>\n",
       "      <td>...</td>\n",
       "      <td>...</td>\n",
       "      <td>...</td>\n",
       "    </tr>\n",
       "    <tr>\n",
       "      <th>144828</th>\n",
       "      <td>FTL</td>\n",
       "      <td>trip-153799142965708367</td>\n",
       "      <td>9</td>\n",
       "      <td>2018</td>\n",
       "      <td>26</td>\n",
       "      <td>869</td>\n",
       "      <td>870.0</td>\n",
       "      <td>617</td>\n",
       "      <td>507</td>\n",
       "      <td>596.7341</td>\n",
       "      <td>...</td>\n",
       "      <td>625</td>\n",
       "      <td>423</td>\n",
       "      <td>518.8885</td>\n",
       "      <td>Dhar</td>\n",
       "      <td>Trimurti</td>\n",
       "      <td>D (Madhya Pradesh)</td>\n",
       "      <td>Ahmedabad_East</td>\n",
       "      <td>H</td>\n",
       "      <td>1 (Gujarat)</td>\n",
       "      <td>1.0</td>\n",
       "    </tr>\n",
       "    <tr>\n",
       "      <th>144847</th>\n",
       "      <td>Carting</td>\n",
       "      <td>trip-153695073416451616</td>\n",
       "      <td>9</td>\n",
       "      <td>2018</td>\n",
       "      <td>14</td>\n",
       "      <td>393</td>\n",
       "      <td>394.0</td>\n",
       "      <td>344</td>\n",
       "      <td>36</td>\n",
       "      <td>40.1360</td>\n",
       "      <td>...</td>\n",
       "      <td>344</td>\n",
       "      <td>31</td>\n",
       "      <td>33.7957</td>\n",
       "      <td>Mumbai</td>\n",
       "      <td>Jogeshwri</td>\n",
       "      <td>L (Maharashtra)</td>\n",
       "      <td>Bhiwandi</td>\n",
       "      <td>Mankoli</td>\n",
       "      <td>HB (Maharashtra)</td>\n",
       "      <td>1.0</td>\n",
       "    </tr>\n",
       "    <tr>\n",
       "      <th>144849</th>\n",
       "      <td>FTL</td>\n",
       "      <td>trip-153761584139918815</td>\n",
       "      <td>9</td>\n",
       "      <td>2018</td>\n",
       "      <td>22</td>\n",
       "      <td>614</td>\n",
       "      <td>615.0</td>\n",
       "      <td>288</td>\n",
       "      <td>111</td>\n",
       "      <td>129.3412</td>\n",
       "      <td>...</td>\n",
       "      <td>289</td>\n",
       "      <td>95</td>\n",
       "      <td>129.1588</td>\n",
       "      <td>Bhiwandi</td>\n",
       "      <td>Mankoli</td>\n",
       "      <td>HB (Maharashtra)</td>\n",
       "      <td>Pune</td>\n",
       "      <td>Tathawde</td>\n",
       "      <td>H (Maharashtra)</td>\n",
       "      <td>1.0</td>\n",
       "    </tr>\n",
       "    <tr>\n",
       "      <th>144854</th>\n",
       "      <td>Carting</td>\n",
       "      <td>trip-153718412883843340</td>\n",
       "      <td>9</td>\n",
       "      <td>2018</td>\n",
       "      <td>17</td>\n",
       "      <td>116</td>\n",
       "      <td>117.0</td>\n",
       "      <td>82</td>\n",
       "      <td>31</td>\n",
       "      <td>36.7671</td>\n",
       "      <td>...</td>\n",
       "      <td>84</td>\n",
       "      <td>33</td>\n",
       "      <td>36.7672</td>\n",
       "      <td>MAA</td>\n",
       "      <td>Poonamallee</td>\n",
       "      <td>HB (Tamil Nadu)</td>\n",
       "      <td>Chennai</td>\n",
       "      <td>Hub (Tamil Nadu)</td>\n",
       "      <td>None</td>\n",
       "      <td>1.0</td>\n",
       "    </tr>\n",
       "    <tr>\n",
       "      <th>144858</th>\n",
       "      <td>Carting</td>\n",
       "      <td>trip-153746066843555182</td>\n",
       "      <td>9</td>\n",
       "      <td>2018</td>\n",
       "      <td>20</td>\n",
       "      <td>427</td>\n",
       "      <td>428.0</td>\n",
       "      <td>423</td>\n",
       "      <td>185</td>\n",
       "      <td>131.1238</td>\n",
       "      <td>...</td>\n",
       "      <td>426</td>\n",
       "      <td>98</td>\n",
       "      <td>111.2709</td>\n",
       "      <td>Sonipat</td>\n",
       "      <td>Kundli</td>\n",
       "      <td>H (Haryana)</td>\n",
       "      <td>Gurgaon</td>\n",
       "      <td>Bilaspur</td>\n",
       "      <td>HB (Haryana)</td>\n",
       "      <td>1.0</td>\n",
       "    </tr>\n",
       "  </tbody>\n",
       "</table>\n",
       "<p>14817 rows × 21 columns</p>\n",
       "</div>"
      ],
      "text/plain": [
       "       route_type                trip_uuid  trip_creation_month  \\\n",
       "0         Carting  trip-153741093647649320                    9   \n",
       "10            FTL  trip-153768492602129387                    9   \n",
       "15        Carting  trip-153693976643699843                    9   \n",
       "17            FTL  trip-153687145942424248                    9   \n",
       "35            FTL  trip-153825970514894360                    9   \n",
       "...           ...                      ...                  ...   \n",
       "144828        FTL  trip-153799142965708367                    9   \n",
       "144847    Carting  trip-153695073416451616                    9   \n",
       "144849        FTL  trip-153761584139918815                    9   \n",
       "144854    Carting  trip-153718412883843340                    9   \n",
       "144858    Carting  trip-153746066843555182                    9   \n",
       "\n",
       "        trip_creation_year  trip_creation_day  start_scan_to_end_scan11  \\\n",
       "0                     2018                 20                       195   \n",
       "10                    2018                 23                       302   \n",
       "15                    2018                 14                       108   \n",
       "17                    2018                 13                      1031   \n",
       "35                    2018                 29                       261   \n",
       "...                    ...                ...                       ...   \n",
       "144828                2018                 26                       869   \n",
       "144847                2018                 14                       393   \n",
       "144849                2018                 22                       614   \n",
       "144854                2018                 17                       116   \n",
       "144858                2018                 20                       427   \n",
       "\n",
       "        Timediff_start_end_H11  agg_segment_actual_time11  \\\n",
       "0                        195.0                        167   \n",
       "10                       302.0                        180   \n",
       "15                       109.0                         60   \n",
       "17                      1031.0                        799   \n",
       "35                       262.0                        151   \n",
       "...                        ...                        ...   \n",
       "144828                   870.0                        617   \n",
       "144847                   394.0                        344   \n",
       "144849                   615.0                        288   \n",
       "144854                   117.0                         82   \n",
       "144858                   428.0                        423   \n",
       "\n",
       "        agg_segment_osrm_time11  agg_segment_osrm_distance11  ...  \\\n",
       "0                            88                     102.7106  ...   \n",
       "10                          106                     130.4089  ...   \n",
       "15                           16                      18.7941  ...   \n",
       "17                          502                     560.5092  ...   \n",
       "35                          137                     115.7501  ...   \n",
       "...                         ...                          ...  ...   \n",
       "144828                      507                     596.7341  ...   \n",
       "144847                       36                      40.1360  ...   \n",
       "144849                      111                     129.3412  ...   \n",
       "144854                       31                      36.7671  ...   \n",
       "144858                      185                     131.1238  ...   \n",
       "\n",
       "        agg_actual_time11  agg_osrm_time11  agg_osrm_distance11  \\\n",
       "0                     170               89             107.4515   \n",
       "10                    183               95             129.3519   \n",
       "15                     60               16              18.7941   \n",
       "17                    805              486             524.7155   \n",
       "35                    152              123             123.7654   \n",
       "...                   ...              ...                  ...   \n",
       "144828                625              423             518.8885   \n",
       "144847                344               31              33.7957   \n",
       "144849                289               95             129.1588   \n",
       "144854                 84               33              36.7672   \n",
       "144858                426               98             111.2709   \n",
       "\n",
       "        Source_City11    Source_Place11 Source_Code/State11  \\\n",
       "0               Anand           VUNagar        DC (Gujarat)   \n",
       "10           Bhiwandi           Mankoli    HB (Maharashtra)   \n",
       "15         LowerParel  CP (Maharashtra)                None   \n",
       "17          Bangalore          Nelmngla       H (Karnataka)   \n",
       "35           Ludhiana          GillChwk         DC (Punjab)   \n",
       "...               ...               ...                 ...   \n",
       "144828           Dhar          Trimurti  D (Madhya Pradesh)   \n",
       "144847         Mumbai         Jogeshwri     L (Maharashtra)   \n",
       "144849       Bhiwandi           Mankoli    HB (Maharashtra)   \n",
       "144854            MAA       Poonamallee     HB (Tamil Nadu)   \n",
       "144858        Sonipat            Kundli         H (Haryana)   \n",
       "\n",
       "       destination_City11 destination_Place11 destination_Code/State11  \\\n",
       "0                   Anand             Vaghasi             IP (Gujarat)   \n",
       "10                   Pune            Tathawde          H (Maharashtra)   \n",
       "15                 Mumbai            Chndivli         PC (Maharashtra)   \n",
       "17                  Aluva             Peedika               H (Kerala)   \n",
       "35               Ludhiana            MilrGanj              HB (Punjab)   \n",
       "...                   ...                 ...                      ...   \n",
       "144828     Ahmedabad_East                   H              1 (Gujarat)   \n",
       "144847           Bhiwandi             Mankoli         HB (Maharashtra)   \n",
       "144849               Pune            Tathawde          H (Maharashtra)   \n",
       "144854            Chennai    Hub (Tamil Nadu)                     None   \n",
       "144858            Gurgaon            Bilaspur             HB (Haryana)   \n",
       "\n",
       "       scan_diff_check  \n",
       "0                  0.0  \n",
       "10                 0.0  \n",
       "15                 1.0  \n",
       "17                 0.0  \n",
       "35                 1.0  \n",
       "...                ...  \n",
       "144828             1.0  \n",
       "144847             1.0  \n",
       "144849             1.0  \n",
       "144854             1.0  \n",
       "144858             1.0  \n",
       "\n",
       "[14817 rows x 21 columns]"
      ]
     },
     "execution_count": 141,
     "metadata": {},
     "output_type": "execute_result"
    }
   ],
   "source": [
    "dfm"
   ]
  },
  {
   "cell_type": "markdown",
   "id": "df46c3b9",
   "metadata": {},
   "source": [
    "### As start and end of the months have  less percentage of trips as compared to mid of the month dates "
   ]
  },
  {
   "cell_type": "code",
   "execution_count": 147,
   "id": "f0890007",
   "metadata": {},
   "outputs": [
    {
     "data": {
      "image/png": "[encoded data removed]",
      "text/plain": [
       "<Figure size 2160x1440 with 2 Axes>"
      ]
     },
     "metadata": {
      "needs_background": "light"
     },
     "output_type": "display_data"
    },
    {
     "data": {
      "text/plain": [
       "<Figure size 432x288 with 0 Axes>"
      ]
     },
     "metadata": {},
     "output_type": "display_data"
    }
   ],
   "source": [
    "f,ax = plt.subplots(nrows=1,ncols=2,figsize=(30,20))\n",
    "sns.countplot(y=df['Source_State'],ax=ax[0])\n",
    "sns.countplot(y=df['destination_State'],ax=ax[1])\n",
    "\n",
    "plt.xticks(rotation=90)\n",
    "plt.show()\n",
    "plt.tight_layout()"
   ]
  },
  {
   "cell_type": "markdown",
   "id": "9581549d",
   "metadata": {},
   "source": [
    "### As from the graph most of the order is coming from Maharastra and Haryana and reaching to Maharastra and karnataka and followed by haryana"
   ]
  },
  {
   "cell_type": "markdown",
   "id": "8c9b646e",
   "metadata": {},
   "source": [
    "### Bivariant Analysis"
   ]
  },
  {
   "cell_type": "code",
   "execution_count": 148,
   "id": "fd7443dd",
   "metadata": {},
   "outputs": [],
   "source": [
    "lk=dfm.loc[:,['route_type', 'trip_uuid',\n",
    "       'start_scan_to_end_scan11', 'trip_creation_month',\n",
    "       'trip_creation_day', 'Timediff_start_end_H11', 'agg_segment_actual_time11',\n",
    "       'agg_segment_osrm_time11', 'agg_segment_osrm_distance11',\n",
    "       'agg_distance_to_destination11', 'agg_actual_time11', 'agg_osrm_time11',\n",
    "       'agg_osrm_distance11', 'Source_City11', 'Source_Place11', 'Source_Code/State11',\n",
    "       'destination_City11', 'destination_Place11', 'destination_Code/State11']]"
   ]
  },
  {
   "cell_type": "code",
   "execution_count": 149,
   "id": "fe159cc8",
   "metadata": {},
   "outputs": [
    {
     "data": {
      "image/png": "[encoded data removed]",
      "text/plain": [
       "<Figure size 648x504 with 2 Axes>"
      ]
     },
     "metadata": {
      "needs_background": "light"
     },
     "output_type": "display_data"
    }
   ],
   "source": [
    "plt.figure(figsize = (9, 7))\n",
    "sns.heatmap(lk.corr(),annot=True)\n",
    "plt.show()"
   ]
  },
  {
   "cell_type": "markdown",
   "id": "e1326389",
   "metadata": {},
   "source": [
    "### As from the heatmap all the features is heavly positivelly related with each others"
   ]
  },
  {
   "cell_type": "code",
   "execution_count": 153,
   "id": "ed92dcb1",
   "metadata": {},
   "outputs": [
    {
     "data": {
      "image/png": "[encoded data removed]",
      "text/plain": [
       "<Figure size 432x288 with 1 Axes>"
      ]
     },
     "metadata": {},
     "output_type": "display_data"
    },
    {
     "name": "stderr",
     "output_type": "stream",
     "text": [
      "C:\\Users\\akgup\\anaconda3\\lib\\site-packages\\seaborn\\_decorators.py:36: FutureWarning: Pass the following variable as a keyword arg: x. From version 0.12, the only valid positional argument will be `data`, and passing other arguments without an explicit keyword will result in an error or misinterpretation.\n",
      "  warnings.warn(\n"
     ]
    },
    {
     "data": {
      "image/png": "[encoded data removed]",
      "text/plain": [
       "<Figure size 432x288 with 1 Axes>"
      ]
     },
     "metadata": {
      "needs_background": "light"
     },
     "output_type": "display_data"
    }
   ],
   "source": [
    "fig1 = plt.figure()\n",
    "ax1 = fig1.add_subplot(121)\n",
    "ax1.pie(dfm['trip_creation_month'].value_counts(), labels=dfm['trip_creation_month'].unique(), autopct='%1.1f%%')\n",
    "plt.show()\n",
    "fig2 = plt.figure()\n",
    "ax2 = fig2.add_subplot(122)\n",
    "sns.countplot(dfm['trip_creation_month'], hue=dfm['route_type'])\n",
    "plt.show()"
   ]
  },
  {
   "cell_type": "markdown",
   "id": "e6108358",
   "metadata": {},
   "source": [
    "### As 82% of the trip are from october month and remaining is from other months"
   ]
  },
  {
   "cell_type": "code",
   "execution_count": 162,
   "id": "ebcaabc9",
   "metadata": {},
   "outputs": [],
   "source": [
    "# one hot endoing of rout_type columns:\n",
    "new_df=pd.concat([dfm,pd.get_dummies(dfm['route_type'])],axis=1)"
   ]
  },
  {
   "cell_type": "code",
   "execution_count": 163,
   "id": "24c25725",
   "metadata": {},
   "outputs": [],
   "source": [
    "#dropping the original column\n",
    "new_df.drop(['route_type'],axis=1, inplace=True)"
   ]
  },
  {
   "cell_type": "code",
   "execution_count": 164,
   "id": "ac5aa142",
   "metadata": {},
   "outputs": [
    {
     "data": {
      "text/html": [
       "<div>\n",
       "<style scoped>\n",
       "    .dataframe tbody tr th:only-of-type {\n",
       "        vertical-align: middle;\n",
       "    }\n",
       "\n",
       "    .dataframe tbody tr th {\n",
       "        vertical-align: top;\n",
       "    }\n",
       "\n",
       "    .dataframe thead th {\n",
       "        text-align: right;\n",
       "    }\n",
       "</style>\n",
       "<table border=\"1\" class=\"dataframe\">\n",
       "  <thead>\n",
       "    <tr style=\"text-align: right;\">\n",
       "      <th></th>\n",
       "      <th>trip_uuid</th>\n",
       "      <th>trip_creation_month</th>\n",
       "      <th>trip_creation_year</th>\n",
       "      <th>trip_creation_day</th>\n",
       "      <th>start_scan_to_end_scan11</th>\n",
       "      <th>Timediff_start_end_H11</th>\n",
       "      <th>agg_segment_actual_time11</th>\n",
       "      <th>agg_segment_osrm_time11</th>\n",
       "      <th>agg_segment_osrm_distance11</th>\n",
       "      <th>agg_distance_to_destination11</th>\n",
       "      <th>...</th>\n",
       "      <th>agg_osrm_distance11</th>\n",
       "      <th>Source_City11</th>\n",
       "      <th>Source_Place11</th>\n",
       "      <th>Source_Code/State11</th>\n",
       "      <th>destination_City11</th>\n",
       "      <th>destination_Place11</th>\n",
       "      <th>destination_Code/State11</th>\n",
       "      <th>scan_diff_check</th>\n",
       "      <th>Carting</th>\n",
       "      <th>FTL</th>\n",
       "    </tr>\n",
       "  </thead>\n",
       "  <tbody>\n",
       "    <tr>\n",
       "      <th>0</th>\n",
       "      <td>trip-153741093647649320</td>\n",
       "      <td>9</td>\n",
       "      <td>2018</td>\n",
       "      <td>20</td>\n",
       "      <td>195</td>\n",
       "      <td>195.0</td>\n",
       "      <td>167</td>\n",
       "      <td>88</td>\n",
       "      <td>102.7106</td>\n",
       "      <td>82.981842</td>\n",
       "      <td>...</td>\n",
       "      <td>107.4515</td>\n",
       "      <td>Anand</td>\n",
       "      <td>VUNagar</td>\n",
       "      <td>DC (Gujarat)</td>\n",
       "      <td>Anand</td>\n",
       "      <td>Vaghasi</td>\n",
       "      <td>IP (Gujarat)</td>\n",
       "      <td>0.0</td>\n",
       "      <td>1</td>\n",
       "      <td>0</td>\n",
       "    </tr>\n",
       "    <tr>\n",
       "      <th>10</th>\n",
       "      <td>trip-153768492602129387</td>\n",
       "      <td>9</td>\n",
       "      <td>2018</td>\n",
       "      <td>23</td>\n",
       "      <td>302</td>\n",
       "      <td>302.0</td>\n",
       "      <td>180</td>\n",
       "      <td>106</td>\n",
       "      <td>130.4089</td>\n",
       "      <td>100.708423</td>\n",
       "      <td>...</td>\n",
       "      <td>129.3519</td>\n",
       "      <td>Bhiwandi</td>\n",
       "      <td>Mankoli</td>\n",
       "      <td>HB (Maharashtra)</td>\n",
       "      <td>Pune</td>\n",
       "      <td>Tathawde</td>\n",
       "      <td>H (Maharashtra)</td>\n",
       "      <td>0.0</td>\n",
       "      <td>0</td>\n",
       "      <td>1</td>\n",
       "    </tr>\n",
       "  </tbody>\n",
       "</table>\n",
       "<p>2 rows × 22 columns</p>\n",
       "</div>"
      ],
      "text/plain": [
       "                  trip_uuid  trip_creation_month  trip_creation_year  \\\n",
       "0   trip-153741093647649320                    9                2018   \n",
       "10  trip-153768492602129387                    9                2018   \n",
       "\n",
       "    trip_creation_day  start_scan_to_end_scan11  Timediff_start_end_H11  \\\n",
       "0                  20                       195                   195.0   \n",
       "10                 23                       302                   302.0   \n",
       "\n",
       "    agg_segment_actual_time11  agg_segment_osrm_time11  \\\n",
       "0                         167                       88   \n",
       "10                        180                      106   \n",
       "\n",
       "    agg_segment_osrm_distance11  agg_distance_to_destination11  ...  \\\n",
       "0                      102.7106                      82.981842  ...   \n",
       "10                     130.4089                     100.708423  ...   \n",
       "\n",
       "    agg_osrm_distance11  Source_City11  Source_Place11 Source_Code/State11  \\\n",
       "0              107.4515          Anand         VUNagar        DC (Gujarat)   \n",
       "10             129.3519       Bhiwandi         Mankoli    HB (Maharashtra)   \n",
       "\n",
       "   destination_City11 destination_Place11 destination_Code/State11  \\\n",
       "0               Anand             Vaghasi             IP (Gujarat)   \n",
       "10               Pune            Tathawde          H (Maharashtra)   \n",
       "\n",
       "   scan_diff_check Carting  FTL  \n",
       "0              0.0       1    0  \n",
       "10             0.0       0    1  \n",
       "\n",
       "[2 rows x 22 columns]"
      ]
     },
     "execution_count": 164,
     "metadata": {},
     "output_type": "execute_result"
    }
   ],
   "source": [
    "new_df.head(2)"
   ]
  },
  {
   "cell_type": "markdown",
   "id": "1e19b04d",
   "metadata": {},
   "source": [
    "### Standarization and Normalization"
   ]
  },
  {
   "cell_type": "code",
   "execution_count": 165,
   "id": "a6ea0390",
   "metadata": {},
   "outputs": [],
   "source": [
    "std=dfm.loc[:,['start_scan_to_end_scan11', 'trip_creation_month',\n",
    "       'trip_creation_day', 'Timediff_start_end_H11', 'agg_segment_actual_time11',\n",
    "       'agg_segment_osrm_time11', 'agg_segment_osrm_distance11',\n",
    "       'agg_distance_to_destination11', 'agg_actual_time11', 'agg_osrm_time11',\n",
    "       'agg_osrm_distance11']]"
   ]
  },
  {
   "cell_type": "code",
   "execution_count": 167,
   "id": "b69c45ac",
   "metadata": {},
   "outputs": [
    {
     "data": {
      "text/html": [
       "<div>\n",
       "<style scoped>\n",
       "    .dataframe tbody tr th:only-of-type {\n",
       "        vertical-align: middle;\n",
       "    }\n",
       "\n",
       "    .dataframe tbody tr th {\n",
       "        vertical-align: top;\n",
       "    }\n",
       "\n",
       "    .dataframe thead th {\n",
       "        text-align: right;\n",
       "    }\n",
       "</style>\n",
       "<table border=\"1\" class=\"dataframe\">\n",
       "  <thead>\n",
       "    <tr style=\"text-align: right;\">\n",
       "      <th></th>\n",
       "      <th>start_scan_to_end_scan11</th>\n",
       "      <th>trip_creation_month</th>\n",
       "      <th>trip_creation_day</th>\n",
       "      <th>Timediff_start_end_H11</th>\n",
       "      <th>agg_segment_actual_time11</th>\n",
       "      <th>agg_segment_osrm_time11</th>\n",
       "      <th>agg_segment_osrm_distance11</th>\n",
       "      <th>agg_distance_to_destination11</th>\n",
       "      <th>agg_actual_time11</th>\n",
       "      <th>agg_osrm_time11</th>\n",
       "      <th>agg_osrm_distance11</th>\n",
       "    </tr>\n",
       "  </thead>\n",
       "  <tbody>\n",
       "    <tr>\n",
       "      <th>0</th>\n",
       "      <td>-0.509816</td>\n",
       "      <td>0.283641</td>\n",
       "      <td>0.128965</td>\n",
       "      <td>0.105094</td>\n",
       "      <td>-0.336020</td>\n",
       "      <td>-0.295530</td>\n",
       "      <td>-0.289226</td>\n",
       "      <td>-0.267399</td>\n",
       "      <td>-0.333380</td>\n",
       "      <td>-0.268360</td>\n",
       "      <td>-0.263380</td>\n",
       "    </tr>\n",
       "    <tr>\n",
       "      <th>1</th>\n",
       "      <td>-0.347379</td>\n",
       "      <td>0.283641</td>\n",
       "      <td>0.602657</td>\n",
       "      <td>0.107265</td>\n",
       "      <td>-0.312649</td>\n",
       "      <td>-0.238302</td>\n",
       "      <td>-0.222742</td>\n",
       "      <td>-0.209384</td>\n",
       "      <td>-0.310223</td>\n",
       "      <td>-0.246325</td>\n",
       "      <td>-0.204312</td>\n",
       "    </tr>\n",
       "    <tr>\n",
       "      <th>2</th>\n",
       "      <td>-0.641892</td>\n",
       "      <td>0.283641</td>\n",
       "      <td>-0.818419</td>\n",
       "      <td>0.103350</td>\n",
       "      <td>-0.528375</td>\n",
       "      <td>-0.524442</td>\n",
       "      <td>-0.490651</td>\n",
       "      <td>-0.485203</td>\n",
       "      <td>-0.529322</td>\n",
       "      <td>-0.536451</td>\n",
       "      <td>-0.502498</td>\n",
       "    </tr>\n",
       "    <tr>\n",
       "      <th>3</th>\n",
       "      <td>0.759321</td>\n",
       "      <td>0.283641</td>\n",
       "      <td>-0.976316</td>\n",
       "      <td>0.122050</td>\n",
       "      <td>0.800137</td>\n",
       "      <td>1.020712</td>\n",
       "      <td>0.809626</td>\n",
       "      <td>0.676718</td>\n",
       "      <td>0.797742</td>\n",
       "      <td>1.189614</td>\n",
       "      <td>0.862025</td>\n",
       "    </tr>\n",
       "    <tr>\n",
       "      <th>4</th>\n",
       "      <td>-0.409621</td>\n",
       "      <td>0.283641</td>\n",
       "      <td>1.550040</td>\n",
       "      <td>0.106453</td>\n",
       "      <td>-0.364783</td>\n",
       "      <td>-0.139743</td>\n",
       "      <td>-0.257928</td>\n",
       "      <td>-0.226467</td>\n",
       "      <td>-0.365443</td>\n",
       "      <td>-0.143496</td>\n",
       "      <td>-0.219380</td>\n",
       "    </tr>\n",
       "  </tbody>\n",
       "</table>\n",
       "</div>"
      ],
      "text/plain": [
       "   start_scan_to_end_scan11  trip_creation_month  trip_creation_day  \\\n",
       "0                 -0.509816             0.283641           0.128965   \n",
       "1                 -0.347379             0.283641           0.602657   \n",
       "2                 -0.641892             0.283641          -0.818419   \n",
       "3                  0.759321             0.283641          -0.976316   \n",
       "4                 -0.409621             0.283641           1.550040   \n",
       "\n",
       "   Timediff_start_end_H11  agg_segment_actual_time11  agg_segment_osrm_time11  \\\n",
       "0                0.105094                  -0.336020                -0.295530   \n",
       "1                0.107265                  -0.312649                -0.238302   \n",
       "2                0.103350                  -0.528375                -0.524442   \n",
       "3                0.122050                   0.800137                 1.020712   \n",
       "4                0.106453                  -0.364783                -0.139743   \n",
       "\n",
       "   agg_segment_osrm_distance11  agg_distance_to_destination11  \\\n",
       "0                    -0.289226                      -0.267399   \n",
       "1                    -0.222742                      -0.209384   \n",
       "2                    -0.490651                      -0.485203   \n",
       "3                     0.809626                       0.676718   \n",
       "4                    -0.257928                      -0.226467   \n",
       "\n",
       "   agg_actual_time11  agg_osrm_time11  agg_osrm_distance11  \n",
       "0          -0.333380        -0.268360            -0.263380  \n",
       "1          -0.310223        -0.246325            -0.204312  \n",
       "2          -0.529322        -0.536451            -0.502498  \n",
       "3           0.797742         1.189614             0.862025  \n",
       "4          -0.365443        -0.143496            -0.219380  "
      ]
     },
     "execution_count": 167,
     "metadata": {},
     "output_type": "execute_result"
    }
   ],
   "source": [
    "from sklearn.preprocessing import StandardScaler, MinMaxScaler\n",
    "\n",
    "scaler = StandardScaler()\n",
    "std_data = scaler.fit_transform(std)\n",
    "std_data = pd.DataFrame(std_data, columns=std.columns)\n",
    "std_data.head()"
   ]
  },
  {
   "cell_type": "markdown",
   "id": "bd289eb5",
   "metadata": {},
   "source": [
    "### Insights"
   ]
  },
  {
   "cell_type": "markdown",
   "id": "10e5c0c6",
   "metadata": {},
   "source": [
    "### . Data is heavily right skewed"
   ]
  },
  {
   "cell_type": "markdown",
   "id": "68f3f490",
   "metadata": {},
   "source": [
    "### . Almost all the features are heavy positively correleated with each other & which is intutive as well."
   ]
  },
  {
   "cell_type": "markdown",
   "id": "8d13dd10",
   "metadata": {},
   "source": [
    "### . 60% data is from Carting rout_type & the remaining 40% is from FTL"
   ]
  },
  {
   "cell_type": "markdown",
   "id": "d8fe94ef",
   "metadata": {},
   "source": [
    "### . 82% of the trips are from October Month & remaining are from other months"
   ]
  },
  {
   "cell_type": "markdown",
   "id": "b633dc6a",
   "metadata": {},
   "source": [
    "### . Start & End dates of the months have less percent of trips compare to mid of the month. Though the difference is not huge"
   ]
  },
  {
   "cell_type": "markdown",
   "id": "cf0be853",
   "metadata": {},
   "source": [
    "### . Most of the order is coming from Maharastra ,Haryana and karnataka and  reaching to Maharastra and karnataka and followed by haryana¶"
   ]
  },
  {
   "cell_type": "markdown",
   "id": "cb3439c0",
   "metadata": {},
   "source": [
    "### . Very least orders coming from the North east states(orisa, assam, nagaland, Mehgalaya)"
   ]
  },
  {
   "cell_type": "markdown",
   "id": "4980d7fb",
   "metadata": {},
   "source": [
    "### There is no difference in the population means of time taken between od_start_time and od_end_time and start_scan_to_end_scan"
   ]
  },
  {
   "cell_type": "markdown",
   "id": "d965c0b2",
   "metadata": {},
   "source": [
    "### There is a difference between the population means of agg_Actual_time & agg_osrm_time. Mean of agg_Actual_time is bigger than that of agg_osrm_time"
   ]
  },
  {
   "cell_type": "markdown",
   "id": "fb9bdfb8",
   "metadata": {},
   "source": [
    "### There is a difference between the population means of agg_Actual_time & agg_segment_actual_time. Mean of agg_Actual_time is bigger than that of agg_segment_actual_time"
   ]
  },
  {
   "cell_type": "markdown",
   "id": "110a1114",
   "metadata": {},
   "source": [
    "### There is a difference between the population means of agg_osrm_distance & agg_segment_osrm_distance."
   ]
  },
  {
   "cell_type": "markdown",
   "id": "c7351088",
   "metadata": {},
   "source": [
    "### There is a difference between the population means of osrm_time & segment_osrm_time."
   ]
  },
  {
   "cell_type": "markdown",
   "id": "c5e53370",
   "metadata": {},
   "source": [
    "### Recommendation"
   ]
  },
  {
   "cell_type": "markdown",
   "id": "9e861d17",
   "metadata": {},
   "source": [
    "### Least orders are reaching/coming from North East states, more corridors/campaigns can be promoted to penetrate in these states as well."
   ]
  },
  {
   "cell_type": "markdown",
   "id": "52283bc4",
   "metadata": {},
   "source": [
    "### Most of the orders are coming from/reaching to Maharashtra & Karnataka, existing corridors can be further enhanced to maintain the penetration from these areas.Also a further profiling of these orders can be made from more rich data to get to know why major orders are coming from these corridors"
   ]
  },
  {
   "cell_type": "markdown",
   "id": "201870ec",
   "metadata": {},
   "source": [
    "### FTL route consists of 40% of the total orders. More ways to promote FTL route handling system can be implemented to increase this percentage"
   ]
  },
  {
   "cell_type": "code",
   "execution_count": null,
   "id": "73081215",
   "metadata": {},
   "outputs": [],
   "source": []
  }
 ],
 "metadata": {
  "kernelspec": {
   "display_name": "Python 3 (ipykernel)",
   "language": "python",
   "name": "python3"
  },
  "language_info": {
   "codemirror_mode": {
    "name": "ipython",
    "version": 3
   },
   "file_extension": ".py",
   "mimetype": "text/x-python",
   "name": "python",
   "nbconvert_exporter": "python",
   "pygments_lexer": "ipython3",
   "version": "3.9.12"
  }
 },
 "nbformat": 4,
 "nbformat_minor": 5
}
